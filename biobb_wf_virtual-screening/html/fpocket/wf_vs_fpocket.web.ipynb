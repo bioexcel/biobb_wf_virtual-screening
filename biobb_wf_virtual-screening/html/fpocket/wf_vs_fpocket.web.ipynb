{
 "cells": [
  {
   "cell_type": "markdown",
   "metadata": {},
   "source": [
    "# Protein-ligand Docking tutorial using BioExcel Building Blocks (biobb)\n",
    "### -- *Fpocket Version* --\n",
    "\n",
    "***\n",
    "This tutorial aims to illustrate the process of **protein-ligand docking**, step by step, using the **BioExcel Building Blocks library (biobb)**. The particular example used is the **Mitogen-activated protein kinase 14** (p38-α) protein (PDB code [3HEC](https://www.rcsb.org/structure/3HEC)), a well-known **Protein Kinase enzyme**, \n",
    " in complex with the FDA-approved **Imatinib**, (PDB Ligand code [STI](https://www.rcsb.org/ligand/STI), DrugBank Ligand Code [DB00619](https://go.drugbank.com/drugs/DB00619)), a small molecule **kinase inhibitor** used to treat certain types of **cancer**. \n",
    " \n",
    "The tutorial will guide you through the process of identifying the **active site cavity** (pocket) without previous knowledge, and the final prediction of the **protein-ligand complex**. \n",
    "\n",
    "Please note that **docking algorithms**, and in particular, **AutoDock Vina** program used in this tutorial, are **non-deterministic**. That means that results obtained when running the workflow **could be diferent** from the ones we obtained during the writing of this tutorial (see [AutoDock Vina manual](http://vina.scripps.edu/manual.html)). We invite you to try the docking process several times to verify this behaviour. \n",
    "***\n",
    "\n",
    "\n",
    "<div style=\"background:#b5e0dd; padding: 15px;\"><strong>Important:</strong> it is recommended to execute this tutorial step by step (not as a single workflow execution, <strong><em>Run All</em></strong> mode), as it has interactive selections.</div>\n",
    "\n",
    "## Settings\n",
    "\n",
    "### Biobb modules used\n",
    "\n",
    " - [biobb_io](https://github.com/bioexcel/biobb_io): Tools to fetch biomolecular data from public databases.\n",
    " - [biobb_structure_utils](https://github.com/bioexcel/biobb_structure_utils): Tools to modify or extract information from a PDB structure file.\n",
    " - [biobb_chemistry](https://github.com/bioexcel/biobb_chemistry): Tools to perform chemoinformatics processes.\n",
    " - [biobb_vs](https://github.com/bioexcel/biobb_vs): Tools to perform virtual screening studies.\n",
    " \n",
    "### Auxiliar libraries used\n",
    "\n",
    " - [nb_conda_kernels](https://github.com/Anaconda-Platform/nb_conda_kernels): Enables a Jupyter Notebook or JupyterLab application in one conda environment to access kernels for Python, R, and other languages found in other environments.\n",
    " - [nglview](http://nglviewer.org/#nglview): Jupyter/IPython widget to interactively view molecular structures and trajectories in notebooks.\n",
    " - [ipywidgets](https://github.com/jupyter-widgets/ipywidgets): Interactive HTML widgets for Jupyter notebooks and the IPython kernel.\n",
    "\n",
    "### Conda Installation and Launch\n",
    "\n",
    "```console\n",
    "git clone https://github.com/bioexcel/biobb_wf_virtual-screening.git\n",
    "cd biobb_wf_virtual_screening\n",
    "conda env create -f conda_env/environment.yml\n",
    "conda activate biobb_VS_tutorial\n",
    "jupyter-nbextension enable --py --user widgetsnbextension\n",
    "jupyter-nbextension enable --py --user nglview\n",
    "jupyter-notebook biobb_wf_virtual_screening/notebooks/fpocket/wf_vs_fpocket.ipynb\n",
    "  ``` \n",
    "\n",
    "***\n",
    "## Pipeline steps\n",
    " 1. [Input Parameters](#input)\n",
    " 2. [Fetching PDB Structure](#fetch)\n",
    " 3. [Extract Protein Structure](#extractProtein)\n",
    " 4. [Computing Protein Cavities (fpocket)](#fpocket)\n",
    " 5. [Filtering Protein Cavities (fpocket output)](#fpocketFilter)\n",
    " 6. [Extract Pocket Cavity ](#fpocketSelect)\n",
    " 7. [Generating Cavity Box ](#cavityBox)\n",
    " 8. [Downloading Small Molecule](#downloadSmallMolecule)\n",
    " 9. [Converting Small Molecule](#sdf2pdb)\n",
    " 10. [Preparing Small Molecule (ligand) for Docking](#ligand_pdb2pdbqt)\n",
    " 11. [Preparing Target Protein for Docking](#protein_pdb2pdbqt)\n",
    " 12. [Running the Docking](#docking)\n",
    " 13. [Extract a Docking Pose](#extractPose)\n",
    " 14. [Converting Ligand Pose to PDB format](#pdbqt2pdb)\n",
    " 15. [Superposing Ligand Pose to the Target Protein Structure](#catPdb)\n",
    " 16. [Comparing final result with experimental structure](#viewFinal)\n",
    " 17. [Questions & Comments](#questions)\n",
    " \n",
    "***\n",
    "<img src=\"https://bioexcel.eu/wp-content/uploads/2019/04/Bioexcell_logo_1080px_transp.png\" alt=\"Bioexcel2 logo\"\n",
    "\ttitle=\"Bioexcel2 logo\" width=\"400\" />\n",
    "***\n"
   ]
  },
  {
   "cell_type": "markdown",
   "metadata": {},
   "source": [
    "<a id=\"input\"></a>\n",
    "## Input parameters\n",
    "**Input parameters** needed:\n",
    "\n",
    " - **pdb_code**: PDB code of the experimental complex structure (if exists).<br>\n",
    "In this particular example, the **p38α** structure in complex with the **Imatinib drug** was experimentally solved and deposited in the **PDB database** under the **3HEC** PDB code. The protein structure from this PDB file will be used as a **target protein** for the **docking process**, after stripping the **small molecule**. An **APO structure**, or any other structure from the **p38α** [cluster 100](https://www.rcsb.org/search?request=%7B%22query%22%3A%7B%22type%22%3A%22terminal%22%2C%22service%22%3A%22sequence%22%2C%22parameters%22%3A%7B%22target%22%3A%22pdb_protein_sequence%22%2C%22value%22%3A%22RPTFYRQELNKTIWEVPERYQNLSPVGSGAYGSVCAAFDTKTGLRVAVKKLSRPFQSIIHAKRTYRELRLLKHMKHENVIGLLDVFTPARSLEEFNDVYLVTHLMGADLNNIVKCQKLTDDHVQFLIYQILRGLKYIHSADIIHRDLKPSNLAVNEDCELKILDFGLARHTDDEMTGYVATRWYRAPEIMLNWMHYNQTVDIWSVGCIMAELLTGRTLFPGTDHIDQLKLILRLVGTPGAELLKKISSESARNYIQSLTQMPKMNFANVFIGANPLAVDLLEKMLVLDSDKRITAAQALAHAYFAQYHDPDDEPVADPYDQSFESRDLLIDEWKSLTYDEVISFVPPP%22%2C%22identity_cutoff%22%3A1%2C%22evalue_cutoff%22%3A0.1%7D%2C%22node_id%22%3A0%7D%2C%22return_type%22%3A%22polymer_entity%22%2C%22request_options%22%3A%7B%22pager%22%3A%7B%22start%22%3A0%2C%22rows%22%3A25%7D%2C%22scoring_strategy%22%3A%22combined%22%2C%22sort%22%3A%5B%7B%22sort_by%22%3A%22score%22%2C%22direction%22%3A%22desc%22%7D%5D%7D%2C%22request_info%22%3A%7B%22src%22%3A%22ui%22%2C%22query_id%22%3A%22bea5861f8b38a9e25a3e626b39d6bcbf%22%7D%7D) (sharing a 100% of sequence similarity with the **p38α** structure) could also be used as a **target protein**. This structure of the **protein-ligand complex** will be also used in the last step of the tutorial to check **how close** the resulting **docking pose** is from the known **experimental structure**. \n",
    " -----\n",
    " - **ligandCode**: Ligand PDB code (3-letter code) for the small molecule (e.g. STI).<br>\n",
    "In this particular example, the small molecule chosen for the tutorial is the FDA-approved drug **Imatinib** (PDB Code STI), a type of cancer growth blocker, used in [diferent types of leukemia](https://go.drugbank.com/drugs/DB00619).\n",
    " -----\n",
    " - **pockets_dir**: Name of a folder to write temporary files."
   ]
  },
  {
   "cell_type": "code",
   "execution_count": 1,
   "metadata": {},
   "outputs": [
    {
     "data": {
      "application/vnd.jupyter.widget-view+json": {
       "model_id": "8300588e9a9c4da8bb335689cfa0f577",
       "version_major": 2,
       "version_minor": 0
      },
      "text/plain": []
     },
     "metadata": {},
     "output_type": "display_data"
    }
   ],
   "source": [
    "import nglview\n",
    "import ipywidgets\n",
    "\n",
    "pdb_code = \"3HEC\"         # P38 + Imatinib\n",
    "\n",
    "ligand_code = \"STI\"       # Imatinib\n",
    "\n",
    "pockets_dir = \"pockets\""
   ]
  },
  {
   "cell_type": "markdown",
   "metadata": {},
   "source": [
    "<a id=\"fetch\"></a>\n",
    "***\n",
    "## Fetching PDB structure\n",
    "Downloading **PDB structure** with the **protein molecule** from the PDBe database.<br>\n",
    "Alternatively, a **PDB file** can be used as starting structure. <br>\n",
    "***\n",
    "**Building Blocks** used:\n",
    " - [Pdb](https://biobb-io.readthedocs.io/en/latest/api.html#module-api.pdb) from **biobb_io.api.pdb**\n",
    "***"
   ]
  },
  {
   "cell_type": "code",
   "execution_count": 2,
   "metadata": {
    "scrolled": true
   },
   "outputs": [
    {
     "name": "stderr",
     "output_type": "stream",
     "text": [
      "2021-05-17 15:44:24,396 [MainThread  ] [INFO ]  Downloading: 3hec from: https://www.ebi.ac.uk/pdbe/entry-files/download/pdb3hec.ent\n",
      "/anaconda3/envs/biobb_VS_tutorial/lib/python3.7/site-packages/urllib3/connectionpool.py:1020: InsecureRequestWarning: Unverified HTTPS request is being made to host 'www.ebi.ac.uk'. Adding certificate verification is strongly advised. See: https://urllib3.readthedocs.io/en/latest/advanced-usage.html#ssl-warnings\n",
      "  InsecureRequestWarning,\n",
      "2021-05-17 15:44:24,864 [MainThread  ] [INFO ]  Writting pdb to: download.pdb\n",
      "2021-05-17 15:44:24,870 [MainThread  ] [INFO ]  Filtering lines NOT starting with one of these words: ['ATOM', 'HETATM']\n"
     ]
    },
    {
     "data": {
      "text/plain": [
       "0"
      ]
     },
     "execution_count": 2,
     "metadata": {},
     "output_type": "execute_result"
    }
   ],
   "source": [
    "from biobb_io.api.pdb import pdb\n",
    "\n",
    "download_pdb = \"download.pdb\"\n",
    "prop = {\n",
    "  \"pdb_code\": pdb_code,\n",
    "  \"filter\": [\"ATOM\", \"HETATM\"]\n",
    "}\n",
    "\n",
    "pdb(output_pdb_path=download_pdb,\n",
    "    properties=prop)"
   ]
  },
  {
   "cell_type": "markdown",
   "metadata": {},
   "source": [
    "<a id=\"vis3D\"></a>\n",
    "### Visualizing 3D structure\n",
    "Visualizing the downloaded/given **PDB structure** using **NGL**.<br><br>\n",
    "Note (and try to identify) the **Imatinib small molecule (STI)** and the **detergent (β-octyl glucoside) (BOG)** used in the experimental reservoir solution to obtain the crystal."
   ]
  },
  {
   "cell_type": "code",
   "execution_count": 27,
   "metadata": {
    "scrolled": false
   },
   "outputs": [
    {
     "data": {
      "application/vnd.jupyter.widget-view+json": {
       "model_id": "14709124b1ec4d1c8d66703a4266447e",
       "version_major": 2,
       "version_minor": 0
      },
      "text/plain": [
       "NGLWidget()"
      ]
     },
     "metadata": {},
     "output_type": "display_data"
    }
   ],
   "source": [
    "view = nglview.show_structure_file(download_pdb, default=True)\n",
    "view.center()\n",
    "view._remote_call('setSize', target='Widget', args=['','600px'])\n",
    "\n",
    "view.render_image()\n",
    "view.download_image(filename='ngl1.png')\n",
    "view"
   ]
  },
  {
   "cell_type": "markdown",
   "metadata": {},
   "source": [
    "<img src='ngl1.png'></img>"
   ]
  },
  {
   "cell_type": "markdown",
   "metadata": {},
   "source": [
    "<a id=\"extractProtein\"></a>\n",
    "***\n",
    "## Extract Protein Structure\n",
    "Extract **protein structure** from the **downloaded PDB file**. Removing **any extra molecule** (ligands, ions, water molecules). <br><br>\n",
    "The **protein structure** will be used as a **target** in the **protein-ligand docking process**. \n",
    "***\n",
    "**Building Blocks** used:\n",
    " - [extract_molecule](https://biobb-structure-utils.readthedocs.io/en/latest/utils.html#module-utils.extract_molecule) from **biobb_structure_utils.utils.extract_molecule**\n",
    "***"
   ]
  },
  {
   "cell_type": "code",
   "execution_count": 4,
   "metadata": {},
   "outputs": [
    {
     "name": "stderr",
     "output_type": "stream",
     "text": [
      "2021-05-17 15:44:29,192 [MainThread  ] [INFO ]  Creating b33b03fe-5761-4996-beca-971e0ea316f5 temporary folder\n",
      "2021-05-17 15:44:29,956 [MainThread  ] [INFO ]  check_structure -i /home/gbayarri_local/projects/BioBB/tutorials/biobb_wf_virtual-screening/biobb_wf_virtual-screening/notebooks/fpocket/download.pdb -o pdb_protein.pdb --force_save --non_interactive command_list --list b33b03fe-5761-4996-beca-971e0ea316f5/extract_prot.lst\n",
      "\n",
      "2021-05-17 15:44:29,958 [MainThread  ] [INFO ]  Exit code 0\n",
      "\n",
      "2021-05-17 15:44:29,959 [MainThread  ] [INFO ]  ===============================================================================\n",
      "=                   BioBB structure checking utility v3.7.2                   =\n",
      "=                 A. Hospital, P. Andrio, J.L. Gelpi 2018-20                  =\n",
      "===============================================================================\n",
      "\n",
      "Warning: sequence features only available in mmCIF format or with external fasta input\n",
      "Structure /home/gbayarri_local/projects/BioBB/tutorials/biobb_wf_virtual-screening/biobb_wf_virtual-screening/notebooks/fpocket/download.pdb loaded\n",
      " Title: \n",
      " Experimental method: unknown\n",
      " Resolution: None A\n",
      "\n",
      " Num. models: 1\n",
      " Num. chains: 1 (A: Protein)\n",
      " Num. residues:  420\n",
      " Num. residues with ins. codes:  0\n",
      " Num. HETATM residues:  91\n",
      " Num. ligands or modified residues:  2\n",
      " Num. water mol.:  89\n",
      " Num. atoms:  2814\n",
      "Small mol ligands found\n",
      "STI A1\n",
      "BOG A353\n",
      "\n",
      "\n",
      "Step 1: ligands --remove All\n",
      "\n",
      "Running ligands. Options: --remove All\n",
      "2 Ligands detected\n",
      " STI A1\n",
      " BOG A353\n",
      "Ligands removed All (2)\n",
      "\n",
      "Step 2: water --remove Yes\n",
      "\n",
      "Running water. Options: --remove Yes\n",
      "89 Water molecules detected\n",
      "89 Water molecules removed\n",
      "Command list completed\n",
      "Final Num. models: 1\n",
      "Final Num. chains: 1 (A: Protein)\n",
      "Final Num. residues:  329\n",
      "Final Num. residues with ins. codes:  0\n",
      "Final Num. HETATM residues:  0\n",
      "Final Num. ligands or modified residues:  0\n",
      "Final Num. water mol.:  0\n",
      "Final Num. atoms:  2668\n",
      "Structure saved on pdb_protein.pdb\n",
      "\n",
      "2021-05-17 15:44:29,960 [MainThread  ] [INFO ]  Removing b33b03fe-5761-4996-beca-971e0ea316f5 temporary folder\n"
     ]
    },
    {
     "data": {
      "text/plain": [
       "0"
      ]
     },
     "execution_count": 4,
     "metadata": {},
     "output_type": "execute_result"
    }
   ],
   "source": [
    "from biobb_structure_utils.utils.extract_molecule import extract_molecule\n",
    "\n",
    "pdb_protein = \"pdb_protein.pdb\"\n",
    "\n",
    "extract_molecule(input_structure_path=download_pdb,\n",
    "             output_molecule_path = pdb_protein)"
   ]
  },
  {
   "cell_type": "markdown",
   "metadata": {},
   "source": [
    "<a id=\"vis3D\"></a>\n",
    "### Visualizing 3D structure\n",
    "Visualizing the downloaded/given **PDB structure** using **NGL**.<br><br>\n",
    "Note that the **small molecules** included in the original structure are now gone. The new structure only contains the **protein molecule**, which will be used as a **target** for the **protein-ligand docking**. "
   ]
  },
  {
   "cell_type": "code",
   "execution_count": 28,
   "metadata": {
    "scrolled": true
   },
   "outputs": [
    {
     "data": {
      "application/vnd.jupyter.widget-view+json": {
       "model_id": "e5049684dc2b4ae19ccfd37964a0252e",
       "version_major": 2,
       "version_minor": 0
      },
      "text/plain": [
       "NGLWidget()"
      ]
     },
     "metadata": {},
     "output_type": "display_data"
    }
   ],
   "source": [
    "view = nglview.show_structure_file(pdb_protein, default=False)\n",
    "view.add_representation(repr_type='cartoon', \n",
    "                        selection='not het',\n",
    "                       colorScheme = 'atomindex')\n",
    "view.center()\n",
    "view._remote_call('setSize', target='Widget', args=['','600px'])\n",
    "\n",
    "view.render_image()\n",
    "view.download_image(filename='ngl2.png')\n",
    "view"
   ]
  },
  {
   "cell_type": "markdown",
   "metadata": {},
   "source": [
    "<img src='ngl2.png'></img>"
   ]
  },
  {
   "cell_type": "markdown",
   "metadata": {},
   "source": [
    "<a id=\"fpocket\"></a>\n",
    "***\n",
    "## Computing Protein Cavities (fpocket)\n",
    "Computing the **protein cavities** (pockets) using the well-known [**fpocket**](https://bmcbioinformatics.biomedcentral.com/articles/10.1186/1471-2105-10-168) tool.<br>\n",
    "These **cavities** will be then used in the **docking procedure** to try to find the **best region of the protein surface** where the small molecule can **bind**. <br><br>\n",
    "Although in this particular example we already know the **binding site** region, as we started from a **protein-ligand complex** structure where the ligand was located in the same **binding site** as **Imatinib** is binding, this is not always the case. In the cases where we do not know these regions, **fpocket** will help us identifying the possible **binding sites** of our **target protein**.<br>\n",
    "\n",
    "**fpocket** input parameters, such as **minimum** and **maximum radius** (in Angstroms) the alpha spheres might have in a **binding pocket** can be adjusted (min_radius, max_radius) . Parameters used in this particular example are 3Å for the **minimum radius** and 6Å for the **maximum radius**. The **minimum number of alpha spheres** a pocket must contain in order to figure in the results is also adjusted to 35. See the [fpocket manual](http://fpocket.sourceforge.net/manual_fpocket2.pdf) for more information.<br> \n",
    "<br>\n",
    "***\n",
    "**Building Blocks** used:\n",
    " - [fpocket_run](https://biobb-vs.readthedocs.io/en/latest/fpocket.html#module-fpocket.fpocket_run) from **biobb_vs.fpocket.fpocket_run**\n",
    "***"
   ]
  },
  {
   "cell_type": "code",
   "execution_count": 1,
   "metadata": {
    "scrolled": true
   },
   "outputs": [
    {
     "ename": "NameError",
     "evalue": "name 'pdb_protein' is not defined",
     "output_type": "error",
     "traceback": [
      "\u001b[0;31m---------------------------------------------------------------------------\u001b[0m",
      "\u001b[0;31mNameError\u001b[0m                                 Traceback (most recent call last)",
      "\u001b[0;32m<ipython-input-1-a700f6402bae>\u001b[0m in \u001b[0;36m<module>\u001b[0;34m\u001b[0m\n\u001b[1;32m      9\u001b[0m }\n\u001b[1;32m     10\u001b[0m \u001b[0;34m\u001b[0m\u001b[0m\n\u001b[0;32m---> 11\u001b[0;31m fpocket_run(input_pdb_path=pdb_protein,\n\u001b[0m\u001b[1;32m     12\u001b[0m         \u001b[0moutput_pockets_zip\u001b[0m \u001b[0;34m=\u001b[0m \u001b[0mfpocket_all_pockets\u001b[0m\u001b[0;34m,\u001b[0m\u001b[0;34m\u001b[0m\u001b[0;34m\u001b[0m\u001b[0m\n\u001b[1;32m     13\u001b[0m         \u001b[0moutput_summary\u001b[0m\u001b[0;34m=\u001b[0m\u001b[0mfpocket_summary\u001b[0m\u001b[0;34m,\u001b[0m\u001b[0;34m\u001b[0m\u001b[0;34m\u001b[0m\u001b[0m\n",
      "\u001b[0;31mNameError\u001b[0m: name 'pdb_protein' is not defined"
     ]
    }
   ],
   "source": [
    "from biobb_vs.fpocket.fpocket_run import fpocket_run\n",
    "\n",
    "fpocket_all_pockets = \"fpocket_all_pockets.zip\"\n",
    "fpocket_summary = \"fpocket_summary.json\"\n",
    "prop = {\n",
    "    \"min_radius\": 3,\n",
    "    \"max_radius\": 6,\n",
    "    \"num_spheres\": 35\n",
    "}\n",
    "\n",
    "fpocket_run(input_pdb_path=pdb_protein,\n",
    "        output_pockets_zip = fpocket_all_pockets,\n",
    "        output_summary=fpocket_summary,\n",
    "        properties=prop)"
   ]
  },
  {
   "cell_type": "markdown",
   "metadata": {},
   "source": [
    "<a id=\"checkJson\"></a>\n",
    "### Checking fpocket output (json)\n",
    "Checking the **fpocket** output from the **json file**. Every **pocket** has a separated entry in the json output, with information such as: **score, druggability score, volume, hydrophobicity, polarity or flexibility**. "
   ]
  },
  {
   "cell_type": "code",
   "execution_count": 7,
   "metadata": {
    "scrolled": true
   },
   "outputs": [
    {
     "name": "stdout",
     "output_type": "stream",
     "text": [
      "{\n",
      "    \"pocket1\": {\n",
      "        \"score\": 0.341,\n",
      "        \"druggability_score\": 0.876,\n",
      "        \"number_of_alpha_spheres\": 227,\n",
      "        \"total_sasa\": 357.1,\n",
      "        \"polar_sasa\": 93.837,\n",
      "        \"apolar_sasa\": 263.263,\n",
      "        \"volume\": 1486.347,\n",
      "        \"mean_local_hydrophobic_density\": 69.241,\n",
      "        \"mean_alpha_sphere_radius\": 3.576,\n",
      "        \"mean_alp_sph_solvent_access\": 0.445,\n",
      "        \"apolar_alpha_sphere_proportion\": 0.731,\n",
      "        \"hydrophobicity_score\": 33.129,\n",
      "        \"volume_score\": 4.258,\n",
      "        \"polarity_score\": 17,\n",
      "        \"charge_score\": 0,\n",
      "        \"proportion_of_polar_atoms\": 30.328,\n",
      "        \"alpha_sphere_density\": 8.901,\n",
      "        \"cent_of_mass_alpha_sphere_max_dist\": 24.197,\n",
      "        \"flexibility\": 0.62\n",
      "    },\n",
      "    \"pocket14\": {\n",
      "        \"score\": -0.129,\n",
      "        \"druggability_score\": 0.041,\n",
      "        \"number_of_alpha_spheres\": 61,\n",
      "        \"total_sasa\": 188.671,\n",
      "        \"polar_sasa\": 61.87,\n",
      "        \"apolar_sasa\": 126.801,\n",
      "        \"volume\": 539.674,\n",
      "        \"mean_local_hydrophobic_density\": 23.636,\n",
      "        \"mean_alpha_sphere_radius\": 3.61,\n",
      "        \"mean_alp_sph_solvent_access\": 0.429,\n",
      "        \"apolar_alpha_sphere_proportion\": 0.541,\n",
      "        \"hydrophobicity_score\": 14.438,\n",
      "        \"volume_score\": 4.562,\n",
      "        \"polarity_score\": 8,\n",
      "        \"charge_score\": 2,\n",
      "        \"proportion_of_polar_atoms\": 30.0,\n",
      "        \"alpha_sphere_density\": 5.224,\n",
      "        \"cent_of_mass_alpha_sphere_max_dist\": 12.921,\n",
      "        \"flexibility\": 0.401\n",
      "    },\n",
      "    \"pocket6\": {\n",
      "        \"score\": 0.064,\n",
      "        \"druggability_score\": 0.028,\n",
      "        \"number_of_alpha_spheres\": 253,\n",
      "        \"total_sasa\": 525.65,\n",
      "        \"polar_sasa\": 149.84,\n",
      "        \"apolar_sasa\": 375.81,\n",
      "        \"volume\": 1898.144,\n",
      "        \"mean_local_hydrophobic_density\": 43.179,\n",
      "        \"mean_alpha_sphere_radius\": 3.676,\n",
      "        \"mean_alp_sph_solvent_access\": 0.507,\n",
      "        \"apolar_alpha_sphere_proportion\": 0.617,\n",
      "        \"hydrophobicity_score\": 36.767,\n",
      "        \"volume_score\": 4.256,\n",
      "        \"polarity_score\": 17,\n",
      "        \"charge_score\": 8,\n",
      "        \"proportion_of_polar_atoms\": 33.103,\n",
      "        \"alpha_sphere_density\": 10.64,\n",
      "        \"cent_of_mass_alpha_sphere_max_dist\": 26.572,\n",
      "        \"flexibility\": 0.403\n",
      "    },\n",
      "    \"pocket3\": {\n",
      "        \"score\": 0.223,\n",
      "        \"druggability_score\": 0.017,\n",
      "        \"number_of_alpha_spheres\": 36,\n",
      "        \"total_sasa\": 73.903,\n",
      "        \"polar_sasa\": 30.111,\n",
      "        \"apolar_sasa\": 43.791,\n",
      "        \"volume\": 288.593,\n",
      "        \"mean_local_hydrophobic_density\": 17.143,\n",
      "        \"mean_alpha_sphere_radius\": 3.514,\n",
      "        \"mean_alp_sph_solvent_access\": 0.47,\n",
      "        \"apolar_alpha_sphere_proportion\": 0.583,\n",
      "        \"hydrophobicity_score\": 41.25,\n",
      "        \"volume_score\": 3.75,\n",
      "        \"polarity_score\": 4,\n",
      "        \"charge_score\": 0,\n",
      "        \"proportion_of_polar_atoms\": 27.586,\n",
      "        \"alpha_sphere_density\": 5.179,\n",
      "        \"cent_of_mass_alpha_sphere_max_dist\": 11.603,\n",
      "        \"flexibility\": 0.658\n",
      "    },\n",
      "    \"pocket4\": {\n",
      "        \"score\": 0.196,\n",
      "        \"druggability_score\": 0.006,\n",
      "        \"number_of_alpha_spheres\": 41,\n",
      "        \"total_sasa\": 100.284,\n",
      "        \"polar_sasa\": 42.318,\n",
      "        \"apolar_sasa\": 57.966,\n",
      "        \"volume\": 417.123,\n",
      "        \"mean_local_hydrophobic_density\": 11.0,\n",
      "        \"mean_alpha_sphere_radius\": 3.563,\n",
      "        \"mean_alp_sph_solvent_access\": 0.551,\n",
      "        \"apolar_alpha_sphere_proportion\": 0.39,\n",
      "        \"hydrophobicity_score\": 30.727,\n",
      "        \"volume_score\": 5.636,\n",
      "        \"polarity_score\": 7,\n",
      "        \"charge_score\": 2,\n",
      "        \"proportion_of_polar_atoms\": 46.875,\n",
      "        \"alpha_sphere_density\": 5.926,\n",
      "        \"cent_of_mass_alpha_sphere_max_dist\": 15.998,\n",
      "        \"flexibility\": 0.441\n",
      "    },\n",
      "    \"pocket10\": {\n",
      "        \"score\": -0.016,\n",
      "        \"druggability_score\": 0.005,\n",
      "        \"number_of_alpha_spheres\": 73,\n",
      "        \"total_sasa\": 161.194,\n",
      "        \"polar_sasa\": 69.414,\n",
      "        \"apolar_sasa\": 91.78,\n",
      "        \"volume\": 538.763,\n",
      "        \"mean_local_hydrophobic_density\": 16.32,\n",
      "        \"mean_alpha_sphere_radius\": 3.577,\n",
      "        \"mean_alp_sph_solvent_access\": 0.485,\n",
      "        \"apolar_alpha_sphere_proportion\": 0.342,\n",
      "        \"hydrophobicity_score\": 24.765,\n",
      "        \"volume_score\": 4.235,\n",
      "        \"polarity_score\": 6,\n",
      "        \"charge_score\": 5,\n",
      "        \"proportion_of_polar_atoms\": 42.857,\n",
      "        \"alpha_sphere_density\": 5.322,\n",
      "        \"cent_of_mass_alpha_sphere_max_dist\": 13.95,\n",
      "        \"flexibility\": 0.329\n",
      "    },\n",
      "    \"pocket11\": {\n",
      "        \"score\": -0.045,\n",
      "        \"druggability_score\": 0.004,\n",
      "        \"number_of_alpha_spheres\": 36,\n",
      "        \"total_sasa\": 134.156,\n",
      "        \"polar_sasa\": 48.415,\n",
      "        \"apolar_sasa\": 85.742,\n",
      "        \"volume\": 410.883,\n",
      "        \"mean_local_hydrophobic_density\": 16.0,\n",
      "        \"mean_alpha_sphere_radius\": 3.587,\n",
      "        \"mean_alp_sph_solvent_access\": 0.657,\n",
      "        \"apolar_alpha_sphere_proportion\": 0.5,\n",
      "        \"hydrophobicity_score\": -2.3,\n",
      "        \"volume_score\": 4.5,\n",
      "        \"polarity_score\": 8,\n",
      "        \"charge_score\": 0,\n",
      "        \"proportion_of_polar_atoms\": 38.71,\n",
      "        \"alpha_sphere_density\": 4.762,\n",
      "        \"cent_of_mass_alpha_sphere_max_dist\": 13.522,\n",
      "        \"flexibility\": 0.378\n",
      "    },\n",
      "    \"pocket5\": {\n",
      "        \"score\": 0.074,\n",
      "        \"druggability_score\": 0.003,\n",
      "        \"number_of_alpha_spheres\": 64,\n",
      "        \"total_sasa\": 123.274,\n",
      "        \"polar_sasa\": 55.33,\n",
      "        \"apolar_sasa\": 67.944,\n",
      "        \"volume\": 489.525,\n",
      "        \"mean_local_hydrophobic_density\": 23.394,\n",
      "        \"mean_alpha_sphere_radius\": 3.616,\n",
      "        \"mean_alp_sph_solvent_access\": 0.474,\n",
      "        \"apolar_alpha_sphere_proportion\": 0.516,\n",
      "        \"hydrophobicity_score\": 43.071,\n",
      "        \"volume_score\": 4.643,\n",
      "        \"polarity_score\": 5,\n",
      "        \"charge_score\": 1,\n",
      "        \"proportion_of_polar_atoms\": 35.135,\n",
      "        \"alpha_sphere_density\": 4.823,\n",
      "        \"cent_of_mass_alpha_sphere_max_dist\": 11.6,\n",
      "        \"flexibility\": 0.6\n",
      "    },\n",
      "    \"pocket2\": {\n",
      "        \"score\": 0.287,\n",
      "        \"druggability_score\": 0.002,\n",
      "        \"number_of_alpha_spheres\": 41,\n",
      "        \"total_sasa\": 10.188,\n",
      "        \"polar_sasa\": 5.357,\n",
      "        \"apolar_sasa\": 4.831,\n",
      "        \"volume\": 119.951,\n",
      "        \"mean_local_hydrophobic_density\": 5.0,\n",
      "        \"mean_alpha_sphere_radius\": 3.278,\n",
      "        \"mean_alp_sph_solvent_access\": 0.426,\n",
      "        \"apolar_alpha_sphere_proportion\": 0.195,\n",
      "        \"hydrophobicity_score\": 18.583,\n",
      "        \"volume_score\": 4.5,\n",
      "        \"polarity_score\": 8,\n",
      "        \"charge_score\": 1,\n",
      "        \"proportion_of_polar_atoms\": 40.741,\n",
      "        \"alpha_sphere_density\": 3.14,\n",
      "        \"cent_of_mass_alpha_sphere_max_dist\": 7.536,\n",
      "        \"flexibility\": 0.23\n",
      "    },\n",
      "    \"pocket8\": {\n",
      "        \"score\": 0.011,\n",
      "        \"druggability_score\": 0.002,\n",
      "        \"number_of_alpha_spheres\": 40,\n",
      "        \"total_sasa\": 127.722,\n",
      "        \"polar_sasa\": 55.264,\n",
      "        \"apolar_sasa\": 72.458,\n",
      "        \"volume\": 390.785,\n",
      "        \"mean_local_hydrophobic_density\": 7.818,\n",
      "        \"mean_alpha_sphere_radius\": 3.646,\n",
      "        \"mean_alp_sph_solvent_access\": 0.536,\n",
      "        \"apolar_alpha_sphere_proportion\": 0.275,\n",
      "        \"hydrophobicity_score\": 2.182,\n",
      "        \"volume_score\": 4.0,\n",
      "        \"polarity_score\": 8,\n",
      "        \"charge_score\": 1,\n",
      "        \"proportion_of_polar_atoms\": 43.333,\n",
      "        \"alpha_sphere_density\": 5.185,\n",
      "        \"cent_of_mass_alpha_sphere_max_dist\": 12.583,\n",
      "        \"flexibility\": 0.642\n",
      "    },\n",
      "    \"pocket7\": {\n",
      "        \"score\": 0.03,\n",
      "        \"druggability_score\": 0.001,\n",
      "        \"number_of_alpha_spheres\": 76,\n",
      "        \"total_sasa\": 175.922,\n",
      "        \"polar_sasa\": 101.049,\n",
      "        \"apolar_sasa\": 74.873,\n",
      "        \"volume\": 582.784,\n",
      "        \"mean_local_hydrophobic_density\": 10.952,\n",
      "        \"mean_alpha_sphere_radius\": 3.707,\n",
      "        \"mean_alp_sph_solvent_access\": 0.527,\n",
      "        \"apolar_alpha_sphere_proportion\": 0.276,\n",
      "        \"hydrophobicity_score\": 9.562,\n",
      "        \"volume_score\": 4.562,\n",
      "        \"polarity_score\": 12,\n",
      "        \"charge_score\": -2,\n",
      "        \"proportion_of_polar_atoms\": 45.098,\n",
      "        \"alpha_sphere_density\": 6.008,\n",
      "        \"cent_of_mass_alpha_sphere_max_dist\": 16.936,\n",
      "        \"flexibility\": 0.4\n",
      "    },\n",
      "    \"pocket12\": {\n",
      "        \"score\": -0.065,\n",
      "        \"druggability_score\": 0.001,\n",
      "        \"number_of_alpha_spheres\": 36,\n",
      "        \"total_sasa\": 84.911,\n",
      "        \"polar_sasa\": 25.737,\n",
      "        \"apolar_sasa\": 59.174,\n",
      "        \"volume\": 255.35,\n",
      "        \"mean_local_hydrophobic_density\": 17.0,\n",
      "        \"mean_alpha_sphere_radius\": 3.681,\n",
      "        \"mean_alp_sph_solvent_access\": 0.565,\n",
      "        \"apolar_alpha_sphere_proportion\": 0.5,\n",
      "        \"hydrophobicity_score\": 39.818,\n",
      "        \"volume_score\": 3.455,\n",
      "        \"polarity_score\": 3,\n",
      "        \"charge_score\": -1,\n",
      "        \"proportion_of_polar_atoms\": 45.833,\n",
      "        \"alpha_sphere_density\": 2.675,\n",
      "        \"cent_of_mass_alpha_sphere_max_dist\": 6.432,\n",
      "        \"flexibility\": 0.588\n",
      "    },\n",
      "    \"pocket9\": {\n",
      "        \"score\": 0.003,\n",
      "        \"druggability_score\": 0.0,\n",
      "        \"number_of_alpha_spheres\": 61,\n",
      "        \"total_sasa\": 141.327,\n",
      "        \"polar_sasa\": 88.192,\n",
      "        \"apolar_sasa\": 53.136,\n",
      "        \"volume\": 482.303,\n",
      "        \"mean_local_hydrophobic_density\": 12.632,\n",
      "        \"mean_alpha_sphere_radius\": 3.667,\n",
      "        \"mean_alp_sph_solvent_access\": 0.574,\n",
      "        \"apolar_alpha_sphere_proportion\": 0.311,\n",
      "        \"hydrophobicity_score\": 41.429,\n",
      "        \"volume_score\": 3.714,\n",
      "        \"polarity_score\": 4,\n",
      "        \"charge_score\": -1,\n",
      "        \"proportion_of_polar_atoms\": 45.238,\n",
      "        \"alpha_sphere_density\": 4.848,\n",
      "        \"cent_of_mass_alpha_sphere_max_dist\": 12.952,\n",
      "        \"flexibility\": 0.541\n",
      "    },\n",
      "    \"pocket13\": {\n",
      "        \"score\": -0.108,\n",
      "        \"druggability_score\": 0.0,\n",
      "        \"number_of_alpha_spheres\": 39,\n",
      "        \"total_sasa\": 126.606,\n",
      "        \"polar_sasa\": 68.64,\n",
      "        \"apolar_sasa\": 57.966,\n",
      "        \"volume\": 368.26,\n",
      "        \"mean_local_hydrophobic_density\": 10.0,\n",
      "        \"mean_alpha_sphere_radius\": 3.837,\n",
      "        \"mean_alp_sph_solvent_access\": 0.489,\n",
      "        \"apolar_alpha_sphere_proportion\": 0.282,\n",
      "        \"hydrophobicity_score\": 28.636,\n",
      "        \"volume_score\": 4.273,\n",
      "        \"polarity_score\": 6,\n",
      "        \"charge_score\": 1,\n",
      "        \"proportion_of_polar_atoms\": 48.148,\n",
      "        \"alpha_sphere_density\": 3.758,\n",
      "        \"cent_of_mass_alpha_sphere_max_dist\": 10.446,\n",
      "        \"flexibility\": 0.676\n",
      "    }\n",
      "}\n"
     ]
    }
   ],
   "source": [
    "import json\n",
    "\n",
    "with open(fpocket_summary, 'r') as json_file:\n",
    "    data = json.load(json_file)\n",
    "    print(json.dumps(data, indent=4))"
   ]
  },
  {
   "cell_type": "markdown",
   "metadata": {},
   "source": [
    "<a id=\"fpocketFilter\"></a>\n",
    "***\n",
    "## Filtering Protein Cavities (fpocket output)\n",
    "Filtering the **protein cavities** (pockets) identified by **fpocket**.<br>\n",
    "In this particular example, the biggest **cavities**, with a **volume** between 800 and 2000 ($Å^{3}$), big enough volume to fit the input small molecule, are selected. <br>\n",
    "\n",
    "***\n",
    "**Building Blocks** used:\n",
    " - [fpocket_filter](https://biobb-vs.readthedocs.io/en/latest/fpocket.html#module-fpocket.fpocket_filter) from **biobb_vs.fpocket.fpocket_filter**\n",
    "***"
   ]
  },
  {
   "cell_type": "code",
   "execution_count": 8,
   "metadata": {
    "scrolled": false
   },
   "outputs": [
    {
     "name": "stderr",
     "output_type": "stream",
     "text": [
      "2021-05-17 15:44:40,770 [MainThread  ] [INFO ]  Performing a search under the next parameters: volume: [800, 2000]\n",
      "2021-05-17 15:44:40,772 [MainThread  ] [INFO ]  Found 2 matches:\n",
      "**********\n",
      "pocket1\n",
      "**********\n",
      "score: 0.341\n",
      "druggability_score: 0.876\n",
      "volume: 1486.347\n",
      "\n",
      "**********\n",
      "pocket6\n",
      "**********\n",
      "score: 0.064\n",
      "druggability_score: 0.028\n",
      "volume: 1898.144\n",
      "\n",
      "2021-05-17 15:44:40,774 [MainThread  ] [INFO ]  Creating 061d0905-ffb1-4c88-8ba1-bc67ed541a5e temporary folder\n",
      "2021-05-17 15:44:40,782 [MainThread  ] [INFO ]  Extracting: /home/gbayarri_local/projects/BioBB/tutorials/biobb_wf_virtual-screening/biobb_wf_virtual-screening/notebooks/fpocket/fpocket_all_pockets.zip\n",
      "2021-05-17 15:44:40,782 [MainThread  ] [INFO ]  to:\n",
      "2021-05-17 15:44:40,783 [MainThread  ] [INFO ]  ['061d0905-ffb1-4c88-8ba1-bc67ed541a5e/pocket10_atm.pdb', '061d0905-ffb1-4c88-8ba1-bc67ed541a5e/pocket10_vert.pqr', '061d0905-ffb1-4c88-8ba1-bc67ed541a5e/pocket11_atm.pdb', '061d0905-ffb1-4c88-8ba1-bc67ed541a5e/pocket11_vert.pqr', '061d0905-ffb1-4c88-8ba1-bc67ed541a5e/pocket12_atm.pdb', '061d0905-ffb1-4c88-8ba1-bc67ed541a5e/pocket12_vert.pqr', '061d0905-ffb1-4c88-8ba1-bc67ed541a5e/pocket13_atm.pdb', '061d0905-ffb1-4c88-8ba1-bc67ed541a5e/pocket13_vert.pqr', '061d0905-ffb1-4c88-8ba1-bc67ed541a5e/pocket14_atm.pdb', '061d0905-ffb1-4c88-8ba1-bc67ed541a5e/pocket14_vert.pqr', '061d0905-ffb1-4c88-8ba1-bc67ed541a5e/pocket1_atm.pdb', '061d0905-ffb1-4c88-8ba1-bc67ed541a5e/pocket1_vert.pqr', '061d0905-ffb1-4c88-8ba1-bc67ed541a5e/pocket2_atm.pdb', '061d0905-ffb1-4c88-8ba1-bc67ed541a5e/pocket2_vert.pqr', '061d0905-ffb1-4c88-8ba1-bc67ed541a5e/pocket3_atm.pdb', '061d0905-ffb1-4c88-8ba1-bc67ed541a5e/pocket3_vert.pqr', '061d0905-ffb1-4c88-8ba1-bc67ed541a5e/pocket4_atm.pdb', '061d0905-ffb1-4c88-8ba1-bc67ed541a5e/pocket4_vert.pqr', '061d0905-ffb1-4c88-8ba1-bc67ed541a5e/pocket5_atm.pdb', '061d0905-ffb1-4c88-8ba1-bc67ed541a5e/pocket5_vert.pqr', '061d0905-ffb1-4c88-8ba1-bc67ed541a5e/pocket6_atm.pdb', '061d0905-ffb1-4c88-8ba1-bc67ed541a5e/pocket6_vert.pqr', '061d0905-ffb1-4c88-8ba1-bc67ed541a5e/pocket7_atm.pdb', '061d0905-ffb1-4c88-8ba1-bc67ed541a5e/pocket7_vert.pqr', '061d0905-ffb1-4c88-8ba1-bc67ed541a5e/pocket8_atm.pdb', '061d0905-ffb1-4c88-8ba1-bc67ed541a5e/pocket8_vert.pqr', '061d0905-ffb1-4c88-8ba1-bc67ed541a5e/pocket9_atm.pdb', '061d0905-ffb1-4c88-8ba1-bc67ed541a5e/pocket9_vert.pqr']\n",
      "2021-05-17 15:44:40,784 [MainThread  ] [INFO ]  Creating fpocket_filter_pockets.zip output file\n",
      "2021-05-17 15:44:40,786 [MainThread  ] [INFO ]  Adding:\n",
      "2021-05-17 15:44:40,787 [MainThread  ] [INFO ]  ['061d0905-ffb1-4c88-8ba1-bc67ed541a5e/pocket1_atm.pdb', '061d0905-ffb1-4c88-8ba1-bc67ed541a5e/pocket1_vert.pqr', '061d0905-ffb1-4c88-8ba1-bc67ed541a5e/pocket6_atm.pdb', '061d0905-ffb1-4c88-8ba1-bc67ed541a5e/pocket6_vert.pqr']\n",
      "2021-05-17 15:44:40,787 [MainThread  ] [INFO ]  to: /home/gbayarri_local/projects/BioBB/tutorials/biobb_wf_virtual-screening/biobb_wf_virtual-screening/notebooks/fpocket/fpocket_filter_pockets.zip\n",
      "2021-05-17 15:44:40,789 [MainThread  ] [INFO ]  Removed temporary folder: 061d0905-ffb1-4c88-8ba1-bc67ed541a5e\n"
     ]
    },
    {
     "data": {
      "text/plain": [
       "0"
      ]
     },
     "execution_count": 8,
     "metadata": {},
     "output_type": "execute_result"
    }
   ],
   "source": [
    "from biobb_vs.fpocket.fpocket_filter import fpocket_filter\n",
    "\n",
    "fpocket_filter_pockets = \"fpocket_filter_pockets.zip\"\n",
    "prop = {\n",
    "    \"volume\": [800, 2000]\n",
    "}\n",
    "\n",
    "fpocket_filter(input_pockets_zip=fpocket_all_pockets,\n",
    "                input_summary = fpocket_summary,\n",
    "                output_filter_pockets_zip=fpocket_filter_pockets,\n",
    "                properties=prop)"
   ]
  },
  {
   "cell_type": "markdown",
   "metadata": {},
   "source": [
    "<a id=\"extractPockets\"></a>\n",
    "### Extract selected pockets (cavities)\n",
    "Extract the selected **pockets** (cavities) from the filtered list (zip file, fpocket_filter_pockets).<br>\n",
    "Writing the information in the ***pockets_dir*** folder.<br>\n",
    "Also saving the list of **PDB files** (protein residues forming the pocket) and **PQR files** (cavity, pocket), to be used in following **visualization step**. "
   ]
  },
  {
   "cell_type": "code",
   "execution_count": 9,
   "metadata": {},
   "outputs": [],
   "source": [
    "import os\n",
    "import shutil\n",
    "\n",
    "from pathlib import Path, PurePath\n",
    "import zipfile\n",
    "\n",
    "if Path(pockets_dir).exists(): shutil.rmtree(pockets_dir) \n",
    "os.mkdir(pockets_dir)\n",
    "\n",
    "with zipfile.ZipFile(fpocket_filter_pockets, 'r') as zip_ref:\n",
    "    zip_ref.extractall(pockets_dir)\n",
    "\n",
    "path_pockets = [str(i) for i in Path(pockets_dir).iterdir()]\n",
    "path_pockets_pdb = [str(i) for i in Path(pockets_dir).iterdir() if PurePath(i).suffix == '.pdb']\n",
    "path_pockets_pqr = [str(i) for i in Path(pockets_dir).iterdir() if PurePath(i).suffix == '.pqr']"
   ]
  },
  {
   "cell_type": "markdown",
   "metadata": {},
   "source": [
    "<a id=\"viewPockets\"></a>\n",
    "### Visualizing selected pockets (cavities)\n",
    "Visualizing the selected **pockets** (cavities) from the filtered list using **NGL viewer**.<br>\n",
    "\n",
    "**Protein residues** forming the **cavity** are represented in **random-colored surfaces**. **Pockets** are represented in a **blue-colored mesh**. Different **pockets** are identified with a floating **label**."
   ]
  },
  {
   "cell_type": "code",
   "execution_count": 29,
   "metadata": {
    "scrolled": true
   },
   "outputs": [
    {
     "data": {
      "application/vnd.jupyter.widget-view+json": {
       "model_id": "b7fee6ae0e1d46ceb9e1c2ac041b88db",
       "version_major": 2,
       "version_minor": 0
      },
      "text/plain": [
       "NGLWidget()"
      ]
     },
     "metadata": {},
     "output_type": "display_data"
    }
   ],
   "source": [
    "import re\n",
    "import random\n",
    "\n",
    "# random colors for cavities\n",
    "r = lambda: random.randint(0,255)\n",
    "\n",
    "# load structure\n",
    "view = nglview.NGLWidget()\n",
    "c = view.add_component(pdb_protein)\n",
    "\n",
    "# load cavities (d) and pockets (p) and create pocketNames list\n",
    "c = {}\n",
    "p = {}\n",
    "pocketNames = []\n",
    "for pock in path_pockets:\n",
    "    g = re.findall('(?:pocket)(\\d+)(?:_\\w+)\\.(\\w+)', pock)\n",
    "    i = g[0][0]\n",
    "    suff = g[0][1]\n",
    "    if not [item for item in pocketNames if ('pocket' + i) in item]: pocketNames.append(('pocket' + i, int(i)))\n",
    "\n",
    "    if suff == 'pdb':\n",
    "        c[i] = view.add_component(pock)\n",
    "        c[i].clear()\n",
    "    else:\n",
    "        p[i] = view.add_component(pock)\n",
    "        p[i].clear()\n",
    "\n",
    "# sort pocket names\n",
    "pocketNames.sort(key=lambda tup: tup[1])\n",
    "        \n",
    "# representation for cavities\n",
    "for pock in path_pockets_pdb:\n",
    "    g = re.findall('(?:pocket)(\\d+)(?:_\\w+)\\.(\\w+)', pock)\n",
    "    i = g[0][0]\n",
    "    c[i].add_surface(color='#%02X%02X%02X' % (r(),r(),r()),  \n",
    "                     radius='1.5',\n",
    "                     lowResolution= True,\n",
    "                     # 0: low resolution \n",
    "                     smooth=1,\n",
    "                     useWorker= True,\n",
    "                     wrap= True)\n",
    "    \n",
    "# representation for pockets\n",
    "for pock in path_pockets_pqr:\n",
    "    g = re.findall('(?:pocket)(\\d+)(?:_\\w+)\\.(\\w+)', pock)\n",
    "    i = g[0][0]\n",
    "    p[i].add_surface( component=i, color='skyblue', surfaceType= 'av', contour=True )\n",
    "\n",
    "view.center()\n",
    "view._remote_call('setSize', target='Widget', args=['','600px'])\n",
    "view\n",
    "\n",
    "# show pocket labels\n",
    "code = \"\"\"\n",
    "var stage = this.stage;\n",
    "var view = this.stage.viewer;\n",
    "var clist_len = stage.compList.length;\n",
    "var i = 0;\n",
    "for(i = 0; i <= clist_len; i++){\n",
    "    if(stage.compList[i] != undefined && stage.compList[i].structure != undefined && stage.compList[i].object.name.indexOf('pqr') != -1) {        \n",
    "\n",
    "        var elm = document.createElement(\"div\");\n",
    "        elm.innerText = 'pocket' + stage.compList[i].object.name.match(/\\d+/g)\n",
    "        elm.style.color = \"black\";\n",
    "        elm.style.background = \"rgba(201, 149, 6, .8)\";\n",
    "        elm.style.padding = \"8px\";\n",
    "        \n",
    "        stage.compList[i].addAnnotation(stage.compList[i].structure.center, elm)\n",
    "    }\n",
    "}\n",
    "\"\"\"\n",
    "\n",
    "view._execute_js_code(code)\n",
    "\n",
    "view.render_image()\n",
    "view.download_image(filename='ngl3.png')\n",
    "view"
   ]
  },
  {
   "cell_type": "markdown",
   "metadata": {},
   "source": [
    "<img src='ngl3.png'></img>"
   ]
  },
  {
   "cell_type": "markdown",
   "metadata": {},
   "source": [
    "<a id=\"selectPockets\"></a>\n",
    "### Select pocket (cavity)\n",
    "Select a specific **pocket** (cavity) from the filtered list to be used in the **docking procedure**. <br>\n",
    "\n",
    "If **fpocket** has been able to identify the correct **binding site**, which we know from the original **protein-ligand structure**, it just needs to be selected. In this particular example, the pocket we are interested in is the **pocket number 6**. <br>\n",
    "\n",
    "Choose a **pocket** from the **DropDown list**:"
   ]
  },
  {
   "cell_type": "code",
   "execution_count": 11,
   "metadata": {},
   "outputs": [
    {
     "data": {
      "application/vnd.jupyter.widget-view+json": {
       "model_id": "ef3734a3d8ed43b8825cd75dc0760e96",
       "version_major": 2,
       "version_minor": 0
      },
      "text/plain": [
       "Dropdown(description='Sel. pocket:', options=(('pocket1', 1), ('pocket6', 6)), value=1)"
      ]
     },
     "metadata": {},
     "output_type": "display_data"
    }
   ],
   "source": [
    "mdsel = ipywidgets.Dropdown(\n",
    "    options=pocketNames,\n",
    "    description='Sel. pocket:',\n",
    "    disabled=False,\n",
    ")\n",
    "display(mdsel)"
   ]
  },
  {
   "cell_type": "markdown",
   "metadata": {},
   "source": [
    "<a id=\"fpocketSelect\"></a>\n",
    "***\n",
    "## Extract Pocket Cavity \n",
    "Extract the selected **protein cavity** (pocket) from the **fpocket** results.<br>\n",
    "\n",
    "It will be used to generate the **docking box** in the **following step**.\n",
    "\n",
    "***\n",
    "**Building Blocks** used:\n",
    " - [fpocket_select](https://biobb-vs.readthedocs.io/en/latest/fpocket.html#module-fpocket.fpocket_select) from **biobb_vs.fpocket.fpocket_select**\n",
    "***"
   ]
  },
  {
   "cell_type": "code",
   "execution_count": 12,
   "metadata": {},
   "outputs": [
    {
     "name": "stderr",
     "output_type": "stream",
     "text": [
      "2021-05-17 15:45:08,171 [MainThread  ] [INFO ]  Creating 7d17de5e-802f-45b7-8830-92f5b35506d7 temporary folder\n",
      "2021-05-17 15:45:08,174 [MainThread  ] [INFO ]  Extracting: /home/gbayarri_local/projects/BioBB/tutorials/biobb_wf_virtual-screening/biobb_wf_virtual-screening/notebooks/fpocket/fpocket_filter_pockets.zip\n",
      "2021-05-17 15:45:08,175 [MainThread  ] [INFO ]  to:\n",
      "2021-05-17 15:45:08,176 [MainThread  ] [INFO ]  ['7d17de5e-802f-45b7-8830-92f5b35506d7/pocket1_atm.pdb', '7d17de5e-802f-45b7-8830-92f5b35506d7/pocket1_vert.pqr', '7d17de5e-802f-45b7-8830-92f5b35506d7/pocket6_atm.pdb', '7d17de5e-802f-45b7-8830-92f5b35506d7/pocket6_vert.pqr']\n",
      "2021-05-17 15:45:08,178 [MainThread  ] [INFO ]  Saving fpocket_cavity.pdb file\n",
      "2021-05-17 15:45:08,179 [MainThread  ] [INFO ]  Saving fpocket_pocket.pqr file\n",
      "2021-05-17 15:45:08,181 [MainThread  ] [INFO ]  Removed temporary folder: 7d17de5e-802f-45b7-8830-92f5b35506d7\n"
     ]
    },
    {
     "data": {
      "text/plain": [
       "0"
      ]
     },
     "execution_count": 12,
     "metadata": {},
     "output_type": "execute_result"
    }
   ],
   "source": [
    "from biobb_vs.fpocket.fpocket_select import fpocket_select\n",
    "\n",
    "fpocket_cavity = \"fpocket_cavity.pdb\"\n",
    "fpocket_pocket = \"fpocket_pocket.pqr\"\n",
    "prop = {\n",
    "    \"pocket\": mdsel.value\n",
    "}\n",
    "\n",
    "fpocket_select(input_pockets_zip=fpocket_filter_pockets,\n",
    "                output_pocket_pdb = fpocket_cavity,\n",
    "                output_pocket_pqr=fpocket_pocket,\n",
    "                properties=prop)"
   ]
  },
  {
   "cell_type": "markdown",
   "metadata": {},
   "source": [
    "<a id=\"cavityBox\"></a>\n",
    "***\n",
    "## Generating Cavity Box \n",
    "Generating a **box** surrounding the selected **protein cavity** (pocket), to be used in the **docking procedure**. The **box** is defining the region on the **surface** of the **protein target** where the **docking program** should explore a possible **ligand dock**.<br>\n",
    "An offset of **12 Angstroms** is used to generate a **big enough box** to fit the **small molecule** and its possible rotations.<br>\n",
    "\n",
    "***\n",
    "**Building Blocks** used:\n",
    " - [box](https://biobb-vs.readthedocs.io/en/latest/utils.html#module-utils.box) from **biobb_vs.utils.box**\n",
    "***"
   ]
  },
  {
   "cell_type": "code",
   "execution_count": 13,
   "metadata": {},
   "outputs": [
    {
     "name": "stderr",
     "output_type": "stream",
     "text": [
      "/anaconda3/envs/biobb_VS_tutorial/lib/python3.7/site-packages/Bio/SubsMat/__init__.py:131: BiopythonDeprecationWarning: Bio.SubsMat has been deprecated, and we intend to remove it in a future release of Biopython. As an alternative, please consider using Bio.Align.substitution_matrices as a replacement, and contact the Biopython developers if you still need the Bio.SubsMat module.\n",
      "  BiopythonDeprecationWarning,\n",
      "2021-05-17 15:45:10,804 [MainThread  ] [INFO ]  Loading pocket PQR selection from fpocket_pocket.pqr\n",
      "2021-05-17 15:45:10,807 [MainThread  ] [INFO ]  Binding site center (Angstroms):     18.588    -3.586   -17.901\n",
      "2021-05-17 15:45:10,808 [MainThread  ] [INFO ]  Adding 12.0 Angstroms offset\n",
      "2021-05-17 15:45:10,809 [MainThread  ] [INFO ]  Binding site size (Angstroms):       18.884    25.442    23.006\n",
      "2021-05-17 15:45:10,811 [MainThread  ] [INFO ]  Volume (cubic Angstroms): 88425\n",
      "2021-05-17 15:45:10,812 [MainThread  ] [INFO ]  Adding box coordinates\n",
      "2021-05-17 15:45:10,814 [MainThread  ] [INFO ]  Saving output PDB file (with box setting annotations): box.pdb\n"
     ]
    },
    {
     "data": {
      "text/plain": [
       "0"
      ]
     },
     "execution_count": 13,
     "metadata": {},
     "output_type": "execute_result"
    }
   ],
   "source": [
    "from biobb_vs.utils.box import box\n",
    "\n",
    "output_box = \"box.pdb\"\n",
    "prop = {\n",
    "    \"offset\": 12,\n",
    "    \"box_coordinates\": True\n",
    "}\n",
    "\n",
    "box(input_pdb_path = fpocket_pocket,\n",
    "            output_pdb_path = output_box,\n",
    "            properties=prop)"
   ]
  },
  {
   "cell_type": "markdown",
   "metadata": {},
   "source": [
    "<a id=\"vis3D\"></a>\n",
    "### Visualizing binding site box in 3D structure\n",
    "Visualizing the **protein structure**, the **selected cavity**, and the **generated box**, all together using **NGL** viewer. Using the **original structure** with the **small ligand** inside (Imatinib, [STI](https://www.rcsb.org/ligand/STI)), to check that the **selected cavity** is placed in the **same region** as the **original ligand**. "
   ]
  },
  {
   "cell_type": "code",
   "execution_count": 30,
   "metadata": {
    "scrolled": true
   },
   "outputs": [
    {
     "data": {
      "application/vnd.jupyter.widget-view+json": {
       "model_id": "3052e1bdf1bd4755886834a372a00dc0",
       "version_major": 2,
       "version_minor": 0
      },
      "text/plain": [
       "NGLWidget()"
      ]
     },
     "metadata": {},
     "output_type": "display_data"
    }
   ],
   "source": [
    "view = nglview.NGLWidget()\n",
    "s = view.add_component(download_pdb)\n",
    "b = view.add_component(output_box)\n",
    "p = view.add_component(fpocket_pocket)\n",
    "p.clear()\n",
    "\n",
    "atomPair = [\n",
    "    [ \"9999:Z.ZN1\", \"9999:Z.ZN2\" ],\n",
    "    [ \"9999:Z.ZN2\", \"9999:Z.ZN4\" ],\n",
    "    [ \"9999:Z.ZN4\", \"9999:Z.ZN3\" ],\n",
    "    [ \"9999:Z.ZN3\", \"9999:Z.ZN1\" ],\n",
    "    \n",
    "    [ \"9999:Z.ZN5\", \"9999:Z.ZN6\" ],\n",
    "    [ \"9999:Z.ZN6\", \"9999:Z.ZN8\" ],\n",
    "    [ \"9999:Z.ZN8\", \"9999:Z.ZN7\" ],\n",
    "    [ \"9999:Z.ZN7\", \"9999:Z.ZN5\" ],\n",
    "    \n",
    "    [ \"9999:Z.ZN1\", \"9999:Z.ZN5\" ],\n",
    "    [ \"9999:Z.ZN2\", \"9999:Z.ZN6\" ],\n",
    "    [ \"9999:Z.ZN3\", \"9999:Z.ZN7\" ],\n",
    "    [ \"9999:Z.ZN4\", \"9999:Z.ZN8\" ]\n",
    "]\n",
    "\n",
    "# structure\n",
    "s.add_representation(repr_type='cartoon', \n",
    "                        selection='not het',\n",
    "                        color='#cccccc',\n",
    "                       opacity=.2)\n",
    "# ligands box\n",
    "b.add_representation(repr_type='ball+stick',\n",
    "                     selection='9999',\n",
    "                     color='pink', \n",
    "                     aspectRatio = 8)\n",
    "# lines box\n",
    "b.add_representation(repr_type='distance', \n",
    "                     atomPair= atomPair,\n",
    "                     labelVisible=False,\n",
    "                     color= 'black')\n",
    "\n",
    "# pocket\n",
    "p.add_surface(component=mdsel.value, \n",
    "              color='skyblue', \n",
    "              surfaceType= 'av', \n",
    "              lowResolution= True,\n",
    "              # 0: low resolution \n",
    "              smooth=1,\n",
    "              contour=True,\n",
    "              opacity=0.4,\n",
    "              useWorker= True,\n",
    "              wrap= True )\n",
    "\n",
    "\n",
    "view.center()\n",
    "view._remote_call('setSize', target='Widget', args=['','600px'])\n",
    "\n",
    "view.render_image()\n",
    "view.download_image(filename='ngl4.png')\n",
    "view"
   ]
  },
  {
   "cell_type": "markdown",
   "metadata": {},
   "source": [
    "<img src='ngl4.png'></img>"
   ]
  },
  {
   "cell_type": "markdown",
   "metadata": {},
   "source": [
    "<a id=\"downloadSmallMolecule\"></a>\n",
    "***\n",
    "## Downloading Small Molecule \n",
    "Downloading the desired **small molecule** to be used in the **docking procedure**. <br>\n",
    "In this particular example, the small molecule of interest is the FDA-approved drug **Imatinib**, with PDB code **STI**.<br>\n",
    "\n",
    "***\n",
    "**Building Blocks** used:\n",
    " - [ideal_sdf](https://biobb-io.readthedocs.io/en/latest/api.html#module-api.ideal_sdf) from **biobb_io.api.ideal_sdf**\n",
    "***"
   ]
  },
  {
   "cell_type": "code",
   "execution_count": 15,
   "metadata": {},
   "outputs": [
    {
     "name": "stderr",
     "output_type": "stream",
     "text": [
      "2021-05-17 15:45:17,292 [MainThread  ] [INFO ]  Downloading: STI from: ftp://ftp.ebi.ac.uk/pub/databases/msd/pdbechem/files/sdf/STI.sdf\n",
      "2021-05-17 15:45:17,294 [MainThread  ] [INFO ]  Writting sdf to: ideal.sdf\n"
     ]
    },
    {
     "data": {
      "text/plain": [
       "0"
      ]
     },
     "execution_count": 15,
     "metadata": {},
     "output_type": "execute_result"
    }
   ],
   "source": [
    "from biobb_io.api.ideal_sdf import ideal_sdf\n",
    "\n",
    "sdf_ideal = \"ideal.sdf\"\n",
    "prop = {\n",
    "  \"ligand_code\": ligand_code\n",
    "}\n",
    "\n",
    "ideal_sdf(output_sdf_path=sdf_ideal,\n",
    "    properties=prop)\n"
   ]
  },
  {
   "cell_type": "markdown",
   "metadata": {},
   "source": [
    "<a id=\"sdf2pdb\"></a>\n",
    "***\n",
    "## Converting Small Molecule \n",
    "Converting the desired **small molecule** to be used in the **docking procedure**, from **SDF** format to **PDB** format using the **OpenBabel chemoinformatics** tool. <br>\n",
    "\n",
    "***\n",
    "**Building Blocks** used:\n",
    " - [babel_convert](https://biobb-chemistry.readthedocs.io/en/latest/babelm.html#module-babelm.babel_convert) from **biobb_chemistry.babelm.babel_convert**\n",
    "***"
   ]
  },
  {
   "cell_type": "code",
   "execution_count": 16,
   "metadata": {},
   "outputs": [
    {
     "name": "stderr",
     "output_type": "stream",
     "text": [
      "2021-05-17 15:45:19,010 [MainThread  ] [INFO ]  Value  is not compatible as a coordinates value\n",
      "2021-05-17 15:45:19,011 [MainThread  ] [INFO ]  Not using any container\n",
      "2021-05-17 15:45:19,129 [MainThread  ] [INFO ]  obabel -isdf ideal.sdf -opdb -Oligand.pdb  \n",
      "\n",
      "2021-05-17 15:45:19,131 [MainThread  ] [INFO ]  Exit code 0\n",
      "\n",
      "2021-05-17 15:45:19,131 [MainThread  ] [INFO ]  1 molecule converted\n",
      "\n"
     ]
    },
    {
     "data": {
      "text/plain": [
       "0"
      ]
     },
     "execution_count": 16,
     "metadata": {},
     "output_type": "execute_result"
    }
   ],
   "source": [
    "from biobb_chemistry.babelm.babel_convert import babel_convert\n",
    "\n",
    "ligand = \"ligand.pdb\"\n",
    "prop = {\n",
    "    \"input_format\": \"sdf\",\n",
    "    \"output_format\": \"pdb\",\n",
    "    \"obabel_path\": \"obabel\"\n",
    "}\n",
    "\n",
    "babel_convert(input_path = sdf_ideal,\n",
    "            output_path = ligand,\n",
    "            properties=prop)"
   ]
  },
  {
   "cell_type": "markdown",
   "metadata": {},
   "source": [
    "<a id=\"ligand_pdb2pdbqt\"></a>\n",
    "***\n",
    "## Preparing Small Molecule (ligand) for Docking\n",
    "Preparing the **small molecule** structure for the **docking procedure**. Converting the **PDB file** to a **PDBQT file** format (AutoDock PDBQT: Protein Data Bank, with Partial Charges (Q), & Atom Types (T)), needed by **AutoDock Vina**. <br><br>\n",
    "The process adds **partial charges** and **atom types** to every atom. Besides, the **ligand flexibility** is also defined in the information contained in the file. The concept of **\"torsion tree\"** is used to represent the **rigid and rotatable** pieces of the **ligand**. A rigid piece (**\"root\"**) is defined, with zero or more rotatable pieces (**\"branches\"**), hanging from the root, and defining the **rotatable bonds**.<br><br>\n",
    "More info about **PDBQT file format** can be found in the [AutoDock FAQ pages](http://autodock.scripps.edu/faqs-help/faq/what-is-the-format-of-a-pdbqt-file).\n",
    "\n",
    "***\n",
    "**Building Blocks** used:\n",
    " - [babel_convert](https://biobb-chemistry.readthedocs.io/en/latest/babelm.html#module-babelm.babel_convert) from **biobb_chemistry.babelm.babel_convert**\n",
    "***"
   ]
  },
  {
   "cell_type": "code",
   "execution_count": 17,
   "metadata": {
    "scrolled": false
   },
   "outputs": [
    {
     "name": "stderr",
     "output_type": "stream",
     "text": [
      "2021-05-17 15:45:21,318 [MainThread  ] [INFO ]  Value  is not compatible as a coordinates value\n",
      "2021-05-17 15:45:21,321 [MainThread  ] [INFO ]  Not using any container\n",
      "2021-05-17 15:45:21,399 [MainThread  ] [INFO ]  obabel -ipdb ligand.pdb -opdbqt -Oprep_ligand.pdbqt  \n",
      "\n",
      "2021-05-17 15:45:21,400 [MainThread  ] [INFO ]  Exit code 0\n",
      "\n",
      "2021-05-17 15:45:21,401 [MainThread  ] [INFO ]  1 molecule converted\n",
      "\n"
     ]
    },
    {
     "data": {
      "text/plain": [
       "0"
      ]
     },
     "execution_count": 17,
     "metadata": {},
     "output_type": "execute_result"
    }
   ],
   "source": [
    "from biobb_chemistry.babelm.babel_convert import babel_convert\n",
    "\n",
    "prep_ligand = \"prep_ligand.pdbqt\"\n",
    "prop = {\n",
    "    \"input_format\": \"pdb\",\n",
    "    \"output_format\": \"pdbqt\",\n",
    "    \"obabel_path\": \"obabel\"\n",
    "}\n",
    "\n",
    "babel_convert(input_path = ligand,\n",
    "            output_path = prep_ligand,\n",
    "            properties=prop)"
   ]
  },
  {
   "cell_type": "markdown",
   "metadata": {},
   "source": [
    "<a id=\"viewDrug\"></a>\n",
    "### Visualizing small molecule (drug)\n",
    "Visualizing the desired **drug** to be docked to the **target protein**, using **NGL viewer**.<br>\n",
    "- **Left panel**: **PDB-formatted** file, with all hydrogen atoms.\n",
    "- **Right panel**: **PDBqt-formatted** file (AutoDock Vina-compatible), with **united atom model** (only polar hydrogens are placed in the structures to correctly type heavy atoms as hydrogen bond donors).\n"
   ]
  },
  {
   "cell_type": "code",
   "execution_count": 31,
   "metadata": {
    "scrolled": true
   },
   "outputs": [
    {
     "data": {
      "application/vnd.jupyter.widget-view+json": {
       "model_id": "ac77a7a0e0f64bb091945e99672fccf6",
       "version_major": 2,
       "version_minor": 0
      },
      "text/plain": [
       "HBox(children=(NGLWidget(), NGLWidget()))"
      ]
     },
     "metadata": {},
     "output_type": "display_data"
    }
   ],
   "source": [
    "from ipywidgets import HBox\n",
    "\n",
    "v0 = nglview.show_structure_file(ligand)\n",
    "v1 = nglview.show_structure_file(prep_ligand)\n",
    "\n",
    "v0._set_size('500px', '')\n",
    "v1._set_size('500px', '')\n",
    "\n",
    "def on_change(change):\n",
    "    v1._set_camera_orientation(change['new'])\n",
    "    \n",
    "v0.observe(on_change, ['_camera_orientation'])\n",
    "\n",
    "HBox([v0, v1])"
   ]
  },
  {
   "cell_type": "markdown",
   "metadata": {},
   "source": [
    "<img src='ngl5.png'></img>"
   ]
  },
  {
   "cell_type": "markdown",
   "metadata": {},
   "source": [
    "<a id=\"protein_pdb2pdbqt\"></a>\n",
    "***\n",
    "## Preparing Target Protein for Docking\n",
    "Preparing the **target protein** structure for the **docking procedure**. Converting the **PDB file** to a **PDBqt file**, needed by **AutoDock Vina**. Similarly to the previous step, the process adds **partial charges** and **atom types** to every target protein atom. In this case, however, we are not taking into account **receptor flexibility**, although **Autodock Vina** allows some limited flexibility of selected **receptor side chains** [(see the documentation)](https://autodock-vina.readthedocs.io/en/latest/docking_flexible.html).<br>\n",
    "\n",
    "***\n",
    "**Building Blocks** used:\n",
    " - [str_check_add_hydrogens](https://biobb-structure-utils.readthedocs.io/en/latest/utils.html#utils-str-check-add-hydrogens-module) from **biobb_structure_utils.utils.str_check_add_hydrogens**\n",
    "***"
   ]
  },
  {
   "cell_type": "code",
   "execution_count": 19,
   "metadata": {},
   "outputs": [
    {
     "name": "stderr",
     "output_type": "stream",
     "text": [
      "2021-05-17 15:45:26,940 [MainThread  ] [INFO ]  check_structure -i /home/gbayarri_local/projects/BioBB/tutorials/biobb_wf_virtual-screening/biobb_wf_virtual-screening/notebooks/fpocket/pdb_protein.pdb -o prep_receptor.pdbqt --force_save add_hydrogen --add_charges --add_mode auto\n",
      "\n",
      "2021-05-17 15:45:26,942 [MainThread  ] [INFO ]  Exit code 0\n",
      "\n",
      "2021-05-17 15:45:26,943 [MainThread  ] [INFO ]  ===============================================================================\n",
      "=                   BioBB structure checking utility v3.7.2                   =\n",
      "=                 A. Hospital, P. Andrio, J.L. Gelpi 2018-20                  =\n",
      "===============================================================================\n",
      "\n",
      "Warning: sequence features only available in mmCIF format or with external fasta input\n",
      "Structure /home/gbayarri_local/projects/BioBB/tutorials/biobb_wf_virtual-screening/biobb_wf_virtual-screening/notebooks/fpocket/pdb_protein.pdb loaded\n",
      " Title: \n",
      " Experimental method: unknown\n",
      " Resolution: None A\n",
      "\n",
      " Num. models: 1\n",
      " Num. chains: 1 (A: Protein)\n",
      " Num. residues:  329\n",
      " Num. residues with ins. codes:  0\n",
      " Num. HETATM residues:  0\n",
      " Num. ligands or modified residues:  0\n",
      " Num. water mol.:  0\n",
      " Num. atoms:  2668\n",
      "\n",
      "Running add_hydrogen. Options: --add_charges --add_mode auto\n",
      "107 Residues requiring selection on adding H atoms\n",
      "CYS A39,A119,A162,A211\n",
      "ASP A43,A88,A101,A112,A124,A125,A145,A150,A161,A168,A205,A227,A230,A283,A292,A294,A313,A315,A316,A321,A324,A331,A335,A343\n",
      "GLU A12,A19,A22,A71,A81,A97,A98,A160,A163,A192,A215,A245,A253,A286,A317,A328,A336,A344\n",
      "HIS A64,A77,A80,A107,A126,A142,A148,A199,A228,A305,A312\n",
      "LYS A15,A45,A53,A54,A66,A76,A79,A118,A121,A139,A152,A165,A233,A248,A249,A267,A287,A295,A338\n",
      "ARG A5,A10,A23,A49,A57,A67,A70,A73,A94,A136,A149,A186,A189,A220,A237,A256,A296,A330\n",
      "TYR A9,A24,A69,A103,A132,A140,A188,A200,A258,A307,A311,A323,A342\n",
      "WARNING: fixing side chains, override with --no_fix_side\n",
      "Running fixside. Options: --fix all\n",
      "1 Residues with missing side chain atoms found\n",
      " PRO A352   \n",
      "Fixing side chains\n",
      "PRO A352\n",
      "Fixed 1 side chain(s)\n",
      "Checking for steric clashes\n",
      "No severe clashes detected\n",
      "No apolar clashes detected\n",
      "No polar_acceptor clashes detected\n",
      "No polar_donor clashes detected\n",
      "No positive clashes detected\n",
      "No negative clashes detected\n",
      "Selection: auto\n",
      "Replacing HIS A64 by HIE\n",
      "Replacing HIS A77 by HIE\n",
      "Replacing HIS A80 by HIE\n",
      "Replacing HIS A107 by HIE\n",
      "Replacing HIS A126 by HIE\n",
      "Replacing HIS A142 by HIE\n",
      "Replacing HIS A148 by HIE\n",
      "Replacing HIS A199 by HIE\n",
      "Replacing HIS A228 by HIE\n",
      "Replacing HIS A305 by HIE\n",
      "Replacing HIS A312 by HIE\n",
      "Updating partial charges and atom types\n",
      "Warning: OXT atom missing in CGLY A31. Run backbone --add_atoms first\n",
      "Warning: OXT atom missing in CPHE A169. Run backbone --add_atoms first\n",
      "Warning: OXT atom missing in CPRO A352. Run backbone --add_atoms first\n",
      "Total assigned charge:      -2.07\n",
      "Final Num. models: 1\n",
      "Final Num. chains: 1 (A: Protein)\n",
      "Final Num. residues:  329\n",
      "Final Num. residues with ins. codes:  0\n",
      "Final Num. HETATM residues:  0\n",
      "Final Num. ligands or modified residues:  0\n",
      "Final Num. water mol.:  0\n",
      "Final Num. atoms:  5353\n",
      "Structure saved on prep_receptor.pdbqt\n",
      "\n"
     ]
    },
    {
     "data": {
      "text/plain": [
       "0"
      ]
     },
     "execution_count": 19,
     "metadata": {},
     "output_type": "execute_result"
    }
   ],
   "source": [
    "from biobb_structure_utils.utils.str_check_add_hydrogens import str_check_add_hydrogens\n",
    "\n",
    "prep_receptor = \"prep_receptor.pdbqt\"\n",
    "prop = {\n",
    "    \"charges\": True,\n",
    "    \"mode\": \"auto\"\n",
    "}\n",
    "\n",
    "str_check_add_hydrogens(input_structure_path = pdb_protein,\n",
    "            output_structure_path = prep_receptor,\n",
    "            properties=prop)"
   ]
  },
  {
   "cell_type": "markdown",
   "metadata": {},
   "source": [
    "<a id=\"docking\"></a>\n",
    "***\n",
    "## Running the Docking\n",
    "Running the **docking process** with the prepared files:\n",
    "- **ligand**\n",
    "- **target protein**\n",
    "- **binding site box**<br>\n",
    "\n",
    "using **AutoDock Vina**. <br>\n",
    "\n",
    "***\n",
    "**Building Blocks** used:\n",
    " - [autodock_vina_run](https://biobb-vs.readthedocs.io/en/latest/vina.html#module-vina.autodock_vina_run) from **biobb_vs.vina.autodock_vina_run**\n",
    "***"
   ]
  },
  {
   "cell_type": "code",
   "execution_count": 20,
   "metadata": {},
   "outputs": [
    {
     "name": "stderr",
     "output_type": "stream",
     "text": [
      "2021-05-17 15:45:29,614 [MainThread  ] [INFO ]  prep_receptor.pdbqt file ends with END, cleaning\n",
      "2021-05-17 15:45:29,618 [MainThread  ] [INFO ]  Executing AutoDock Vina\n",
      "2021-05-17 15:45:29,619 [MainThread  ] [INFO ]  Not using any container\n",
      "2021-05-17 15:46:19,009 [MainThread  ] [INFO ]  vina --ligand prep_ligand.pdbqt --receptor prep_receptor.pdbqt --center_x=18.588 --center_y=-3.586 --center_z=-17.901 --size_x=18.884 --size_y=25.442 --size_z=23.006 --out output_vina.pdbqt --log output_vina.log\n",
      "\n",
      "2021-05-17 15:46:19,011 [MainThread  ] [INFO ]  Exit code 0\n",
      "\n",
      "2021-05-17 15:46:19,011 [MainThread  ] [INFO ]  #################################################################\n",
      "# If you used AutoDock Vina in your work, please cite:          #\n",
      "#                                                               #\n",
      "# O. Trott, A. J. Olson,                                        #\n",
      "# AutoDock Vina: improving the speed and accuracy of docking    #\n",
      "# with a new scoring function, efficient optimization and       #\n",
      "# multithreading, Journal of Computational Chemistry 31 (2010)  #\n",
      "# 455-461                                                       #\n",
      "#                                                               #\n",
      "# DOI 10.1002/jcc.21334                                         #\n",
      "#                                                               #\n",
      "# Please see http://vina.scripps.edu for more information.      #\n",
      "#################################################################\n",
      "\n",
      "Detected 8 CPUs\n",
      "Reading input ... done.\n",
      "Setting up the scoring function ... done.\n",
      "Analyzing the binding site ... done.\n",
      "Using random seed: 243047507\n",
      "Performing search ... \n",
      "0%   10   20   30   40   50   60   70   80   90   100%\n",
      "|----|----|----|----|----|----|----|----|----|----|\n",
      "***************************************************\n",
      "done.\n",
      "Refining results ... done.\n",
      "\n",
      "mode |   affinity | dist from best mode\n",
      "     | (kcal/mol) | rmsd l.b.| rmsd u.b.\n",
      "-----+------------+----------+----------\n",
      "   1        -11.1      0.000      0.000\n",
      "   2         -9.3      1.869     12.340\n",
      "   3         -9.2      2.350     12.298\n",
      "   4         -9.0      7.739     12.329\n",
      "   5         -8.6      5.738     13.064\n",
      "   6         -8.4      7.785     13.782\n",
      "   7         -8.3      7.038     12.298\n",
      "Writing output ... done.\n",
      "\n"
     ]
    },
    {
     "data": {
      "text/plain": [
       "0"
      ]
     },
     "execution_count": 20,
     "metadata": {},
     "output_type": "execute_result"
    }
   ],
   "source": [
    "from biobb_vs.vina.autodock_vina_run import autodock_vina_run\n",
    "\n",
    "output_vina_pdbqt = \"output_vina.pdbqt\"\n",
    "output_vina_log = \"output_vina.log\"\n",
    "\n",
    "autodock_vina_run(input_ligand_pdbqt_path = prep_ligand,\n",
    "             input_receptor_pdbqt_path = prep_receptor,\n",
    "             input_box_path = output_box,\n",
    "             output_pdbqt_path = output_vina_pdbqt,\n",
    "             output_log_path = output_vina_log)"
   ]
  },
  {
   "cell_type": "markdown",
   "metadata": {},
   "source": [
    "<a id=\"viewDocking\"></a>\n",
    "### Visualizing docking output poses\n",
    "Visualizing the generated **docking poses** for the **ligand**, using **NGL viewer**. <br>\n",
    "- **Left panel**: **Docking poses** displayed with atoms coloured by **partial charges** and **licorice** representation.\n",
    "- **Right panel**: **Docking poses** displayed with atoms coloured by **element** and **ball-and-stick** representation."
   ]
  },
  {
   "cell_type": "code",
   "execution_count": 21,
   "metadata": {
    "scrolled": true
   },
   "outputs": [
    {
     "data": {
      "application/vnd.jupyter.widget-view+json": {
       "model_id": "7ef2c478bd264098881fce6af878051a",
       "version_major": 2,
       "version_minor": 0
      },
      "text/plain": [
       "HBox(children=(NGLWidget(), NGLWidget()))"
      ]
     },
     "metadata": {},
     "output_type": "display_data"
    }
   ],
   "source": [
    "from ipywidgets import HBox\n",
    "\n",
    "models = 'all'\n",
    "\n",
    "v0 = nglview.show_structure_file(output_vina_pdbqt, default=False)\n",
    "v0.add_representation(repr_type='licorice', \n",
    "                        selection=models,\n",
    "                       colorScheme= 'partialCharge')\n",
    "v0.center()\n",
    "v1 = nglview.show_structure_file(output_vina_pdbqt, default=False)\n",
    "v1.add_representation(repr_type='ball+stick', \n",
    "                        selection=models)\n",
    "v1.center()\n",
    "\n",
    "v0._set_size('500px', '')\n",
    "v1._set_size('500px', '')\n",
    "\n",
    "def on_change(change):\n",
    "    v1._set_camera_orientation(change['new'])\n",
    "    \n",
    "v0.observe(on_change, ['_camera_orientation'])\n",
    "\n",
    "HBox([v0, v1])"
   ]
  },
  {
   "cell_type": "markdown",
   "metadata": {},
   "source": [
    "<img src='ngl6.png'></img>"
   ]
  },
  {
   "cell_type": "markdown",
   "metadata": {},
   "source": [
    "<a id=\"selectPose\"></a>\n",
    "### Select Docking Pose\n",
    "Select a specific **docking pose** from the output list for **visual inspection**.\n",
    "<br>\n",
    "Choose a **docking pose** from the **DropDown list**."
   ]
  },
  {
   "cell_type": "code",
   "execution_count": 22,
   "metadata": {},
   "outputs": [
    {
     "data": {
      "application/vnd.jupyter.widget-view+json": {
       "model_id": "92b20bbba5d84e398e8808726956ba59",
       "version_major": 2,
       "version_minor": 0
      },
      "text/plain": [
       "Dropdown(description='Sel. model:', options=(('model0', 0), ('model1', 1), ('model2', 2), ('model3', 3), ('mod…"
      ]
     },
     "metadata": {},
     "output_type": "display_data"
    }
   ],
   "source": [
    "from Bio.PDB import PDBParser\n",
    "parser = PDBParser(QUIET = True)\n",
    "structure = parser.get_structure(\"protein\", output_vina_pdbqt)\n",
    "models = []\n",
    "for i, m in enumerate(structure):\n",
    "    models.append(('model' + str(i), i))\n",
    "    \n",
    "mdsel = ipywidgets.Dropdown(\n",
    "    options=models,\n",
    "    description='Sel. model:',\n",
    "    disabled=False,\n",
    ")\n",
    "display(mdsel)"
   ]
  },
  {
   "cell_type": "markdown",
   "metadata": {},
   "source": [
    "<a id=\"extractPose\"></a>\n",
    "***\n",
    "## Extract a Docking Pose\n",
    "Extract a specific **docking pose** from the **docking** outputs. <br>\n",
    "\n",
    "***\n",
    "**Building Blocks** used:\n",
    " - [extract_model_pdbqt](https://biobb-vs.readthedocs.io/en/latest/utils.html#module-utils.extract_model_pdbqt) from **biobb_vs.utils.extract_model_pdbqt**\n",
    "***"
   ]
  },
  {
   "cell_type": "code",
   "execution_count": 23,
   "metadata": {},
   "outputs": [
    {
     "name": "stderr",
     "output_type": "stream",
     "text": [
      "2021-05-17 15:46:56,618 [MainThread  ] [INFO ]  Saving model 1 to output_model.pdbqt\n"
     ]
    },
    {
     "data": {
      "text/plain": [
       "0"
      ]
     },
     "execution_count": 23,
     "metadata": {},
     "output_type": "execute_result"
    }
   ],
   "source": [
    "from biobb_vs.utils.extract_model_pdbqt import extract_model_pdbqt\n",
    "\n",
    "output_pdbqt_model = \"output_model.pdbqt\"\n",
    "prop = {\n",
    "    \"model\": mdsel.value + 1\n",
    "}\n",
    "\n",
    "extract_model_pdbqt(input_pdbqt_path = output_vina_pdbqt,\n",
    "             output_pdbqt_path = output_pdbqt_model,\n",
    "            properties=prop)"
   ]
  },
  {
   "cell_type": "markdown",
   "metadata": {},
   "source": [
    "<a id=\"pdbqt2pdb\"></a>\n",
    "***\n",
    "## Converting Ligand Pose to PDB format\n",
    "Converting **ligand pose** to **PDB format**. <br>\n",
    "\n",
    "***\n",
    "**Building Blocks** used:\n",
    " - [babel_convert](https://biobb-chemistry.readthedocs.io/en/latest/babelm.html#module-babelm.babel_convert) from **biobb_chemistry.babelm.babel_convert**\n",
    "***"
   ]
  },
  {
   "cell_type": "code",
   "execution_count": 24,
   "metadata": {},
   "outputs": [
    {
     "name": "stderr",
     "output_type": "stream",
     "text": [
      "2021-05-17 15:46:58,600 [MainThread  ] [INFO ]  Value  is not compatible as a coordinates value\n",
      "2021-05-17 15:46:58,602 [MainThread  ] [INFO ]  Not using any container\n",
      "2021-05-17 15:46:58,658 [MainThread  ] [INFO ]  obabel -ipdbqt output_model.pdbqt -opdb -Ooutput_model.pdb  \n",
      "\n",
      "2021-05-17 15:46:58,659 [MainThread  ] [INFO ]  Exit code 0\n",
      "\n",
      "2021-05-17 15:46:58,660 [MainThread  ] [INFO ]  1 molecule converted\n",
      "\n"
     ]
    },
    {
     "data": {
      "text/plain": [
       "0"
      ]
     },
     "execution_count": 24,
     "metadata": {},
     "output_type": "execute_result"
    }
   ],
   "source": [
    "from biobb_chemistry.babelm.babel_convert import babel_convert\n",
    "\n",
    "output_pdb_model = \"output_model.pdb\"\n",
    "prop = {\n",
    "    \"input_format\": \"pdbqt\",\n",
    "    \"output_format\": \"pdb\",\n",
    "    \"obabel_path\": \"obabel\"\n",
    "}\n",
    "\n",
    "babel_convert(input_path = output_pdbqt_model,\n",
    "             output_path = output_pdb_model,\n",
    "            properties=prop)"
   ]
  },
  {
   "cell_type": "markdown",
   "metadata": {},
   "source": [
    "<a id=\"catPdb\"></a>\n",
    "***\n",
    "## Superposing Ligand Pose to the Target Protein Structure\n",
    "Superposing **ligand pose** to the target **protein structure**, in order to see the **protein-ligand docking conformation**. <br><br>Building a new **PDB file** with both **target and ligand** (binding pose) structures. <br>\n",
    "\n",
    "***\n",
    "**Building Blocks** used:\n",
    " - [cat_pdb](https://biobb-structure-utils.readthedocs.io/en/latest/utils.html#module-utils.cat_pdb) from **biobb_structure_utils.utils.cat_pdb**\n",
    "***"
   ]
  },
  {
   "cell_type": "code",
   "execution_count": 25,
   "metadata": {
    "scrolled": true
   },
   "outputs": [
    {
     "name": "stderr",
     "output_type": "stream",
     "text": [
      "2021-05-17 15:47:00,632 [MainThread  ] [INFO ]  File output_structure.pdb created\n"
     ]
    },
    {
     "data": {
      "text/plain": [
       "0"
      ]
     },
     "execution_count": 25,
     "metadata": {},
     "output_type": "execute_result"
    }
   ],
   "source": [
    "from biobb_structure_utils.utils.cat_pdb import cat_pdb\n",
    "\n",
    "output_structure = \"output_structure.pdb\"\n",
    "\n",
    "cat_pdb(input_structure1 = pdb_protein,\n",
    "             input_structure2 = output_pdb_model,\n",
    "             output_structure_path = output_structure)"
   ]
  },
  {
   "cell_type": "markdown",
   "metadata": {},
   "source": [
    "<a id=\"viewFinal\"></a>\n",
    "### Comparing final result with experimental structure \n",
    "Visualizing and comparing the generated **protein-ligand** complex with the original **protein-ligand conformation** (downloaded from the PDB database), using **NGL viewer**. <br>\n",
    "- **Licorice, element-colored** representation: **Experimental pose**.\n",
    "- **Licorice, green-colored** representation: **Docking pose**.\n",
    "<br>\n",
    "\n",
    "Note that outputs from **AutoDock Vina** don't contain all the atoms, as the program works with a **united-atom representation** (i.e. only polar hydrogens)."
   ]
  },
  {
   "cell_type": "code",
   "execution_count": 32,
   "metadata": {
    "scrolled": true
   },
   "outputs": [
    {
     "data": {
      "application/vnd.jupyter.widget-view+json": {
       "model_id": "fb8dc84712964f1db344cef4247c4e81",
       "version_major": 2,
       "version_minor": 0
      },
      "text/plain": [
       "NGLWidget()"
      ]
     },
     "metadata": {},
     "output_type": "display_data"
    }
   ],
   "source": [
    "view = nglview.NGLWidget()\n",
    "\n",
    "# v1 = Experimental Structure\n",
    "v1 = view.add_component(download_pdb)\n",
    "\n",
    "v1.clear()\n",
    "v1.add_representation(repr_type='licorice', \n",
    "                     selection='STI',\n",
    "                     radius=0.5)\n",
    "\n",
    "# v2 = Docking result\n",
    "v2 = view.add_component(output_structure)\n",
    "v2.clear()\n",
    "v2.add_representation(repr_type='cartoon', colorScheme = 'sstruc')\n",
    "v2.add_representation(repr_type='licorice', radius=0.5, color= 'green', selection='UNL')\n",
    "\n",
    "view._remote_call('setSize', target='Widget', args=['','600px'])\n",
    "view\n",
    "\n",
    "# align reference and output\n",
    "code = \"\"\"\n",
    "var stage = this.stage;\n",
    "var clist_len = stage.compList.length;\n",
    "var i = 0;\n",
    "var s = [];\n",
    "for(i = 0; i <= clist_len; i++){\n",
    "    if(stage.compList[i] != undefined && stage.compList[i].structure != undefined) {        \n",
    "       s.push(stage.compList[i])\n",
    "    }\n",
    "}\n",
    "NGL.superpose(s[0].structure, s[1].structure, true, \".CA\")\n",
    "s[ 0 ].updateRepresentations({ position: true })\n",
    "s[ 0 ].autoView()\n",
    "\"\"\"\n",
    "\n",
    "view._execute_js_code(code)\n",
    "\n",
    "view.render_image()\n",
    "view.download_image(filename='ngl7.png')\n",
    "view"
   ]
  },
  {
   "cell_type": "markdown",
   "metadata": {},
   "source": [
    "<img src='ngl7.png'></img>"
   ]
  },
  {
   "cell_type": "markdown",
   "metadata": {},
   "source": [
    "***\n",
    "<a id=\"questions\"></a>\n",
    "\n",
    "## Questions & Comments\n",
    "\n",
    "Questions, issues, suggestions and comments are really welcome!\n",
    "\n",
    "* GitHub issues:\n",
    "    * [https://github.com/bioexcel/biobb](https://github.com/bioexcel/biobb)\n",
    "\n",
    "* BioExcel forum:\n",
    "    * [https://ask.bioexcel.eu/c/BioExcel-Building-Blocks-library](https://ask.bioexcel.eu/c/BioExcel-Building-Blocks-library)\n"
   ]
  }
 ],
 "metadata": {
  "kernelspec": {
   "display_name": "Python 3",
   "language": "python",
   "name": "python3"
  },
  "language_info": {
   "codemirror_mode": {
    "name": "ipython",
    "version": 3
   },
   "file_extension": ".py",
   "mimetype": "text/x-python",
   "name": "python",
   "nbconvert_exporter": "python",
   "pygments_lexer": "ipython3",
   "version": "3.7.6"
  }
 },
 "nbformat": 4,
 "nbformat_minor": 4
}
