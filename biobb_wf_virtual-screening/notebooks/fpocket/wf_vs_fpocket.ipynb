{
 "cells": [
  {
   "cell_type": "code",
   "execution_count": 1,
   "metadata": {},
   "outputs": [
    {
     "data": {
      "application/vnd.jupyter.widget-view+json": {
       "model_id": "ca132ea0ab4b4fc8b030c7bc64a599ac",
       "version_major": 2,
       "version_minor": 0
      },
      "text/plain": [
       "_ColormakerRegistry()"
      ]
     },
     "metadata": {},
     "output_type": "display_data"
    }
   ],
   "source": [
    "import nglview\n",
    "import ipywidgets\n",
    "\n",
    "#pdb_code = \"4i23\"\n",
    "pdb_code = \"2rgp\"\n",
    "drugbank_code = \"DB11963\"\n",
    "ligand_remove = \"HYZ\"\n",
    "compare_id = \"4hjo\"\n",
    "api_id = \"pdbe\"\n",
    "pockets_dir = \"pockets\""
   ]
  },
  {
   "cell_type": "code",
   "execution_count": 2,
   "metadata": {},
   "outputs": [],
   "source": [
    "from biobb_io.api.pdb import pdb"
   ]
  },
  {
   "cell_type": "code",
   "execution_count": 3,
   "metadata": {
    "scrolled": true
   },
   "outputs": [
    {
     "name": "stdout",
     "output_type": "stream",
     "text": [
      "2021-02-02 12:36:37,708 [MainThread  ] [INFO ]  Downloading: 2rgp from: https://www.ebi.ac.uk/pdbe/entry-files/download/pdb2rgp.ent\n"
     ]
    },
    {
     "name": "stderr",
     "output_type": "stream",
     "text": [
      "/anaconda3/envs/biobb_dev_37/lib/python3.7/site-packages/urllib3/connectionpool.py:986: InsecureRequestWarning: Unverified HTTPS request is being made to host 'www.ebi.ac.uk'. Adding certificate verification is strongly advised. See: https://urllib3.readthedocs.io/en/latest/advanced-usage.html#ssl-warnings\n",
      "  InsecureRequestWarning,\n"
     ]
    },
    {
     "name": "stdout",
     "output_type": "stream",
     "text": [
      "2021-02-02 12:36:38,101 [MainThread  ] [INFO ]  Writting pdb to: download.pdb\n",
      "2021-02-02 12:36:38,104 [MainThread  ] [INFO ]  Filtering lines NOT starting with one of these words: ['ATOM', 'HETATM']\n"
     ]
    },
    {
     "data": {
      "text/plain": [
       "0"
      ]
     },
     "execution_count": 3,
     "metadata": {},
     "output_type": "execute_result"
    }
   ],
   "source": [
    "download_pdb = \"download.pdb\"\n",
    "prop = {\n",
    "  \"pdb_code\": pdb_code,\n",
    "  \"filter\": [\"ATOM\", \"HETATM\"],\n",
    "  \"api_id\": api_id\n",
    "}\n",
    "\n",
    "pdb(output_pdb_path=download_pdb,\n",
    "    properties=prop)"
   ]
  },
  {
   "cell_type": "code",
   "execution_count": 4,
   "metadata": {},
   "outputs": [
    {
     "data": {
      "application/vnd.jupyter.widget-view+json": {
       "model_id": "1844da0002fb45a68a5d5a2c6513b499",
       "version_major": 2,
       "version_minor": 0
      },
      "text/plain": [
       "NGLWidget()"
      ]
     },
     "metadata": {},
     "output_type": "display_data"
    }
   ],
   "source": [
    "view = nglview.show_structure_file(download_pdb, default=True)\n",
    "view.center()\n",
    "view._remote_call('setSize', target='Widget', args=['','600px'])\n",
    "view"
   ]
  },
  {
   "cell_type": "code",
   "execution_count": 5,
   "metadata": {},
   "outputs": [],
   "source": [
    "from biobb_structure_utils.utils.remove_ligand import remove_ligand"
   ]
  },
  {
   "cell_type": "code",
   "execution_count": 6,
   "metadata": {
    "scrolled": false
   },
   "outputs": [
    {
     "name": "stdout",
     "output_type": "stream",
     "text": [
      "2021-02-02 12:36:41,955 [MainThread  ] [INFO ]  PDB format detected, removing all atoms from residues named HYZ\n"
     ]
    },
    {
     "data": {
      "text/plain": [
       "0"
      ]
     },
     "execution_count": 6,
     "metadata": {},
     "output_type": "execute_result"
    }
   ],
   "source": [
    "pdb_no_ligand = \"pdb_no_ligand.pdb\"\n",
    "prop = {\n",
    "    \"ligand\": ligand_remove\n",
    "}\n",
    "\n",
    "remove_ligand(input_structure_path=download_pdb,\n",
    "             output_structure_path = pdb_no_ligand,\n",
    "            properties=prop)"
   ]
  },
  {
   "cell_type": "code",
   "execution_count": 7,
   "metadata": {
    "scrolled": false
   },
   "outputs": [
    {
     "data": {
      "application/vnd.jupyter.widget-view+json": {
       "model_id": "99e5018b24464bd9956c9caad3ec5e36",
       "version_major": 2,
       "version_minor": 0
      },
      "text/plain": [
       "NGLWidget()"
      ]
     },
     "metadata": {},
     "output_type": "display_data"
    }
   ],
   "source": [
    "view = nglview.show_structure_file(pdb_no_ligand, default=False)\n",
    "view.add_representation(repr_type='cartoon', \n",
    "                        selection='not het',\n",
    "                       colorScheme = 'atomindex')\n",
    "view.center()\n",
    "view._remote_call('setSize', target='Widget', args=['','600px'])\n",
    "view"
   ]
  },
  {
   "cell_type": "code",
   "execution_count": 8,
   "metadata": {},
   "outputs": [],
   "source": [
    "from biobb_structure_utils.utils.extract_chain import extract_chain"
   ]
  },
  {
   "cell_type": "code",
   "execution_count": 9,
   "metadata": {
    "scrolled": true
   },
   "outputs": [
    {
     "name": "stdout",
     "output_type": "stream",
     "text": [
      "2021-02-02 12:36:45,804 [MainThread  ] [INFO ]  check_structure -i /home/gbayarri_local/projects/BioBB/tutorials/biobb_wf_virtual-screening/biobb_wf_virtual-screening/notebooks/fpocket/pdb_no_ligand.pdb -o extract_chain.pdb --force_save chains --select A\n",
      "\n",
      "2021-02-02 12:36:45,806 [MainThread  ] [INFO ]  Exit code 0\n",
      "\n",
      "2021-02-02 12:36:45,806 [MainThread  ] [INFO ]  ===============================================================================\n",
      "=                   BioBB structure checking utility v3.7.2                   =\n",
      "=                 A. Hospital, P. Andrio, J.L. Gelpi 2018-20                  =\n",
      "===============================================================================\n",
      "\n",
      "Warning: sequence features only available in mmCIF format or with external fasta input\n",
      "Structure /home/gbayarri_local/projects/BioBB/tutorials/biobb_wf_virtual-screening/biobb_wf_virtual-screening/notebooks/fpocket/pdb_no_ligand.pdb loaded\n",
      " Title: \n",
      " Experimental method: unknown\n",
      " Resolution: None A\n",
      "\n",
      " Num. models: 1\n",
      " Num. chains: 1 (A: Protein)\n",
      " Num. residues:  371\n",
      " Num. residues with ins. codes:  0\n",
      " Num. HETATM residues:  87\n",
      " Num. ligands or modified residues:  2\n",
      " Num. water mol.:  85\n",
      " Num. atoms:  2384\n",
      "Small mol ligands found\n",
      "PO4 A81\n",
      "PO4 A82\n",
      "\n",
      "Running chains. Options: --select A\n",
      "1 Chain(s) detected\n",
      " A: Protein\n",
      "Structure not modified, saving due to --force_save option\n",
      "Final Num. models: 1\n",
      "Final Num. chains: 1 (A: Protein)\n",
      "Final Num. residues:  371\n",
      "Final Num. residues with ins. codes:  0\n",
      "Final Num. HETATM residues:  87\n",
      "Final Num. ligands or modified residues:  2\n",
      "Final Num. water mol.:  85\n",
      "Final Num. atoms:  2384\n",
      "Small mol ligands found\n",
      "PO4 A81\n",
      "PO4 A82\n",
      "Structure saved on extract_chain.pdb\n",
      "\n"
     ]
    },
    {
     "data": {
      "text/plain": [
       "0"
      ]
     },
     "execution_count": 9,
     "metadata": {},
     "output_type": "execute_result"
    }
   ],
   "source": [
    "pdb_single_chain = \"extract_chain.pdb\"\n",
    "prop = {\n",
    "    \"chains\": [\"A\"]\n",
    "}\n",
    "\n",
    "extract_chain(input_structure_path=pdb_no_ligand,\n",
    "             output_structure_path = pdb_single_chain,\n",
    "            properties=prop)"
   ]
  },
  {
   "cell_type": "code",
   "execution_count": 10,
   "metadata": {},
   "outputs": [
    {
     "data": {
      "application/vnd.jupyter.widget-view+json": {
       "model_id": "488083319157482d924d0c8ea7b1a4ef",
       "version_major": 2,
       "version_minor": 0
      },
      "text/plain": [
       "NGLWidget()"
      ]
     },
     "metadata": {},
     "output_type": "display_data"
    }
   ],
   "source": [
    "view = nglview.show_structure_file(pdb_single_chain, default=False)\n",
    "view.add_representation(repr_type='cartoon', \n",
    "                        selection='not het',\n",
    "                        colorScheme = 'atomindex')\n",
    "view.center()\n",
    "view._remote_call('setSize', target='Widget', args=['','600px'])\n",
    "view"
   ]
  },
  {
   "cell_type": "code",
   "execution_count": 11,
   "metadata": {},
   "outputs": [],
   "source": [
    "from biobb_vs.fpocket.fpocket import fpocket"
   ]
  },
  {
   "cell_type": "code",
   "execution_count": 12,
   "metadata": {
    "scrolled": true
   },
   "outputs": [
    {
     "name": "stdout",
     "output_type": "stream",
     "text": [
      "2021-02-02 12:36:49,373 [MainThread  ] [INFO ]  Creating 7f1f0a1a-687c-485d-a2e9-42e1539f532d temporary folder\n",
      "2021-02-02 12:36:49,376 [MainThread  ] [INFO ]  Executing fpocket\n",
      "2021-02-02 12:36:49,377 [MainThread  ] [INFO ]  Not using any container\n",
      "2021-02-02 12:36:50,557 [MainThread  ] [INFO ]  fpocket -f 7f1f0a1a-687c-485d-a2e9-42e1539f532d/input.pdb -m 3 -M 6 -i 35\n",
      "\n",
      "2021-02-02 12:36:50,559 [MainThread  ] [INFO ]  Exit code 0\n",
      "\n",
      "2021-02-02 12:36:50,560 [MainThread  ] [INFO ]  ***** POCKET HUNTING BEGINS ***** \n",
      "***** POCKET HUNTING ENDS ***** \n",
      "\n",
      "2021-02-02 12:36:50,566 [MainThread  ] [INFO ]  10 pockets found\n",
      "2021-02-02 12:36:50,569 [MainThread  ] [INFO ]  Sorting output data by druggability_score\n",
      "2021-02-02 12:36:50,573 [MainThread  ] [INFO ]  Adding:\n",
      "2021-02-02 12:36:50,574 [MainThread  ] [INFO ]  ['7f1f0a1a-687c-485d-a2e9-42e1539f532d/input_out/pockets/pocket10_atm.pdb', '7f1f0a1a-687c-485d-a2e9-42e1539f532d/input_out/pockets/pocket10_vert.pqr', '7f1f0a1a-687c-485d-a2e9-42e1539f532d/input_out/pockets/pocket1_atm.pdb', '7f1f0a1a-687c-485d-a2e9-42e1539f532d/input_out/pockets/pocket1_vert.pqr', '7f1f0a1a-687c-485d-a2e9-42e1539f532d/input_out/pockets/pocket2_atm.pdb', '7f1f0a1a-687c-485d-a2e9-42e1539f532d/input_out/pockets/pocket2_vert.pqr', '7f1f0a1a-687c-485d-a2e9-42e1539f532d/input_out/pockets/pocket3_atm.pdb', '7f1f0a1a-687c-485d-a2e9-42e1539f532d/input_out/pockets/pocket3_vert.pqr', '7f1f0a1a-687c-485d-a2e9-42e1539f532d/input_out/pockets/pocket4_atm.pdb', '7f1f0a1a-687c-485d-a2e9-42e1539f532d/input_out/pockets/pocket4_vert.pqr', '7f1f0a1a-687c-485d-a2e9-42e1539f532d/input_out/pockets/pocket5_atm.pdb', '7f1f0a1a-687c-485d-a2e9-42e1539f532d/input_out/pockets/pocket5_vert.pqr', '7f1f0a1a-687c-485d-a2e9-42e1539f532d/input_out/pockets/pocket6_atm.pdb', '7f1f0a1a-687c-485d-a2e9-42e1539f532d/input_out/pockets/pocket6_vert.pqr', '7f1f0a1a-687c-485d-a2e9-42e1539f532d/input_out/pockets/pocket7_atm.pdb', '7f1f0a1a-687c-485d-a2e9-42e1539f532d/input_out/pockets/pocket7_vert.pqr', '7f1f0a1a-687c-485d-a2e9-42e1539f532d/input_out/pockets/pocket8_atm.pdb', '7f1f0a1a-687c-485d-a2e9-42e1539f532d/input_out/pockets/pocket8_vert.pqr', '7f1f0a1a-687c-485d-a2e9-42e1539f532d/input_out/pockets/pocket9_atm.pdb', '7f1f0a1a-687c-485d-a2e9-42e1539f532d/input_out/pockets/pocket9_vert.pqr']\n",
      "2021-02-02 12:36:50,575 [MainThread  ] [INFO ]  to: /home/gbayarri_local/projects/BioBB/tutorials/biobb_wf_virtual-screening/biobb_wf_virtual-screening/notebooks/fpocket/fpocket_all_pockets.zip\n",
      "2021-02-02 12:36:50,576 [MainThread  ] [INFO ]  Saving summary to fpocket_summary.json file\n",
      "2021-02-02 12:36:50,579 [MainThread  ] [INFO ]  Removed temporary folder: 7f1f0a1a-687c-485d-a2e9-42e1539f532d\n"
     ]
    },
    {
     "data": {
      "text/plain": [
       "0"
      ]
     },
     "execution_count": 12,
     "metadata": {},
     "output_type": "execute_result"
    }
   ],
   "source": [
    "fpocket_all_pockets = \"fpocket_all_pockets.zip\"\n",
    "fpocket_summary = \"fpocket_summary.json\"\n",
    "prop = {\n",
    "    \"min_radius\": 3,\n",
    "    \"max_radius\": 6,\n",
    "    \"num_spheres\": 35\n",
    "}\n",
    "\n",
    "fpocket(input_pdb_path=pdb_single_chain,\n",
    "        output_pockets_zip = fpocket_all_pockets,\n",
    "        output_summary=fpocket_summary,\n",
    "        properties=prop)"
   ]
  },
  {
   "cell_type": "code",
   "execution_count": 13,
   "metadata": {
    "scrolled": true
   },
   "outputs": [
    {
     "name": "stdout",
     "output_type": "stream",
     "text": [
      "{\n",
      "    \"pocket8\": {\n",
      "        \"score\": 0.002,\n",
      "        \"druggability_score\": 0.905,\n",
      "        \"number_of_alpha_spheres\": 162,\n",
      "        \"total_sasa\": 331.266,\n",
      "        \"polar_sasa\": 94.908,\n",
      "        \"apolar_sasa\": 236.358,\n",
      "        \"volume\": 1184.367,\n",
      "        \"mean_local_hydrophobic_density\": 50.962,\n",
      "        \"mean_alpha_sphere_radius\": 3.816,\n",
      "        \"mean_alp_sph_solvent_access\": 0.48,\n",
      "        \"apolar_alpha_sphere_proportion\": 0.488,\n",
      "        \"hydrophobicity_score\": 35.067,\n",
      "        \"volume_score\": 3.933,\n",
      "        \"polarity_score\": 11,\n",
      "        \"charge_score\": 0,\n",
      "        \"proportion_of_polar_atoms\": 36.364,\n",
      "        \"alpha_sphere_density\": 7.296,\n",
      "        \"cent_of_mass_alpha_sphere_max_dist\": 17.251,\n",
      "        \"flexibility\": 0.351\n",
      "    },\n",
      "    \"pocket6\": {\n",
      "        \"score\": 0.082,\n",
      "        \"druggability_score\": 0.144,\n",
      "        \"number_of_alpha_spheres\": 55,\n",
      "        \"total_sasa\": 143.741,\n",
      "        \"polar_sasa\": 51.961,\n",
      "        \"apolar_sasa\": 91.78,\n",
      "        \"volume\": 523.391,\n",
      "        \"mean_local_hydrophobic_density\": 30.611,\n",
      "        \"mean_alpha_sphere_radius\": 3.557,\n",
      "        \"mean_alp_sph_solvent_access\": 0.458,\n",
      "        \"apolar_alpha_sphere_proportion\": 0.655,\n",
      "        \"hydrophobicity_score\": 35.429,\n",
      "        \"volume_score\": 4.5,\n",
      "        \"polarity_score\": 6,\n",
      "        \"charge_score\": 1,\n",
      "        \"proportion_of_polar_atoms\": 35.897,\n",
      "        \"alpha_sphere_density\": 5.28,\n",
      "        \"cent_of_mass_alpha_sphere_max_dist\": 11.129,\n",
      "        \"flexibility\": 0.503\n",
      "    },\n",
      "    \"pocket10\": {\n",
      "        \"score\": -0.062,\n",
      "        \"druggability_score\": 0.048,\n",
      "        \"number_of_alpha_spheres\": 39,\n",
      "        \"total_sasa\": 123.213,\n",
      "        \"polar_sasa\": 29.018,\n",
      "        \"apolar_sasa\": 94.195,\n",
      "        \"volume\": 345.841,\n",
      "        \"mean_local_hydrophobic_density\": 28.387,\n",
      "        \"mean_alpha_sphere_radius\": 3.721,\n",
      "        \"mean_alp_sph_solvent_access\": 0.486,\n",
      "        \"apolar_alpha_sphere_proportion\": 0.795,\n",
      "        \"hydrophobicity_score\": 29.6,\n",
      "        \"volume_score\": 4.3,\n",
      "        \"polarity_score\": 3,\n",
      "        \"charge_score\": 1,\n",
      "        \"proportion_of_polar_atoms\": 26.667,\n",
      "        \"alpha_sphere_density\": 3.764,\n",
      "        \"cent_of_mass_alpha_sphere_max_dist\": 10.498,\n",
      "        \"flexibility\": 0.8\n",
      "    },\n",
      "    \"pocket1\": {\n",
      "        \"score\": 0.296,\n",
      "        \"druggability_score\": 0.041,\n",
      "        \"number_of_alpha_spheres\": 49,\n",
      "        \"total_sasa\": 53.189,\n",
      "        \"polar_sasa\": 30.244,\n",
      "        \"apolar_sasa\": 22.945,\n",
      "        \"volume\": 328.395,\n",
      "        \"mean_local_hydrophobic_density\": 21.652,\n",
      "        \"mean_alpha_sphere_radius\": 3.465,\n",
      "        \"mean_alp_sph_solvent_access\": 0.408,\n",
      "        \"apolar_alpha_sphere_proportion\": 0.469,\n",
      "        \"hydrophobicity_score\": 37.167,\n",
      "        \"volume_score\": 4.833,\n",
      "        \"polarity_score\": 5,\n",
      "        \"charge_score\": 3,\n",
      "        \"proportion_of_polar_atoms\": 43.75,\n",
      "        \"alpha_sphere_density\": 4.122,\n",
      "        \"cent_of_mass_alpha_sphere_max_dist\": 10.532,\n",
      "        \"flexibility\": 0.438\n",
      "    },\n",
      "    \"pocket2\": {\n",
      "        \"score\": 0.189,\n",
      "        \"druggability_score\": 0.034,\n",
      "        \"number_of_alpha_spheres\": 37,\n",
      "        \"total_sasa\": 56.314,\n",
      "        \"polar_sasa\": 22.501,\n",
      "        \"apolar_sasa\": 33.814,\n",
      "        \"volume\": 220.118,\n",
      "        \"mean_local_hydrophobic_density\": 22.538,\n",
      "        \"mean_alpha_sphere_radius\": 3.4,\n",
      "        \"mean_alp_sph_solvent_access\": 0.482,\n",
      "        \"apolar_alpha_sphere_proportion\": 0.703,\n",
      "        \"hydrophobicity_score\": 16.222,\n",
      "        \"volume_score\": 4.667,\n",
      "        \"polarity_score\": 5,\n",
      "        \"charge_score\": 0,\n",
      "        \"proportion_of_polar_atoms\": 33.333,\n",
      "        \"alpha_sphere_density\": 3.702,\n",
      "        \"cent_of_mass_alpha_sphere_max_dist\": 9.418,\n",
      "        \"flexibility\": 0.296\n",
      "    },\n",
      "    \"pocket7\": {\n",
      "        \"score\": 0.08,\n",
      "        \"druggability_score\": 0.013,\n",
      "        \"number_of_alpha_spheres\": 50,\n",
      "        \"total_sasa\": 105.892,\n",
      "        \"polar_sasa\": 56.38,\n",
      "        \"apolar_sasa\": 49.513,\n",
      "        \"volume\": 375.025,\n",
      "        \"mean_local_hydrophobic_density\": 25.071,\n",
      "        \"mean_alpha_sphere_radius\": 3.55,\n",
      "        \"mean_alp_sph_solvent_access\": 0.526,\n",
      "        \"apolar_alpha_sphere_proportion\": 0.56,\n",
      "        \"hydrophobicity_score\": 11.7,\n",
      "        \"volume_score\": 4.7,\n",
      "        \"polarity_score\": 8,\n",
      "        \"charge_score\": 2,\n",
      "        \"proportion_of_polar_atoms\": 38.235,\n",
      "        \"alpha_sphere_density\": 4.086,\n",
      "        \"cent_of_mass_alpha_sphere_max_dist\": 11.409,\n",
      "        \"flexibility\": 0.408\n",
      "    },\n",
      "    \"pocket5\": {\n",
      "        \"score\": 0.086,\n",
      "        \"druggability_score\": 0.012,\n",
      "        \"number_of_alpha_spheres\": 38,\n",
      "        \"total_sasa\": 94.793,\n",
      "        \"polar_sasa\": 27.008,\n",
      "        \"apolar_sasa\": 67.786,\n",
      "        \"volume\": 279.68,\n",
      "        \"mean_local_hydrophobic_density\": 13.333,\n",
      "        \"mean_alpha_sphere_radius\": 3.532,\n",
      "        \"mean_alp_sph_solvent_access\": 0.46,\n",
      "        \"apolar_alpha_sphere_proportion\": 0.395,\n",
      "        \"hydrophobicity_score\": 39.571,\n",
      "        \"volume_score\": 4.429,\n",
      "        \"polarity_score\": 5,\n",
      "        \"charge_score\": -2,\n",
      "        \"proportion_of_polar_atoms\": 46.429,\n",
      "        \"alpha_sphere_density\": 4.211,\n",
      "        \"cent_of_mass_alpha_sphere_max_dist\": 11.092,\n",
      "        \"flexibility\": 0.529\n",
      "    },\n",
      "    \"pocket9\": {\n",
      "        \"score\": -0.016,\n",
      "        \"druggability_score\": 0.005,\n",
      "        \"number_of_alpha_spheres\": 35,\n",
      "        \"total_sasa\": 76.281,\n",
      "        \"polar_sasa\": 36.43,\n",
      "        \"apolar_sasa\": 39.852,\n",
      "        \"volume\": 235.709,\n",
      "        \"mean_local_hydrophobic_density\": 23.0,\n",
      "        \"mean_alpha_sphere_radius\": 3.665,\n",
      "        \"mean_alp_sph_solvent_access\": 0.481,\n",
      "        \"apolar_alpha_sphere_proportion\": 0.686,\n",
      "        \"hydrophobicity_score\": 36.667,\n",
      "        \"volume_score\": 4.778,\n",
      "        \"polarity_score\": 5,\n",
      "        \"charge_score\": 1,\n",
      "        \"proportion_of_polar_atoms\": 26.087,\n",
      "        \"alpha_sphere_density\": 2.387,\n",
      "        \"cent_of_mass_alpha_sphere_max_dist\": 5.186,\n",
      "        \"flexibility\": 0.543\n",
      "    },\n",
      "    \"pocket3\": {\n",
      "        \"score\": 0.141,\n",
      "        \"druggability_score\": 0.002,\n",
      "        \"number_of_alpha_spheres\": 44,\n",
      "        \"total_sasa\": 106.255,\n",
      "        \"polar_sasa\": 62.543,\n",
      "        \"apolar_sasa\": 43.712,\n",
      "        \"volume\": 399.098,\n",
      "        \"mean_local_hydrophobic_density\": 2.0,\n",
      "        \"mean_alpha_sphere_radius\": 3.624,\n",
      "        \"mean_alp_sph_solvent_access\": 0.492,\n",
      "        \"apolar_alpha_sphere_proportion\": 0.068,\n",
      "        \"hydrophobicity_score\": 11.846,\n",
      "        \"volume_score\": 4.077,\n",
      "        \"polarity_score\": 7,\n",
      "        \"charge_score\": 0,\n",
      "        \"proportion_of_polar_atoms\": 54.839,\n",
      "        \"alpha_sphere_density\": 5.0,\n",
      "        \"cent_of_mass_alpha_sphere_max_dist\": 13.166,\n",
      "        \"flexibility\": 0.39\n",
      "    },\n",
      "    \"pocket4\": {\n",
      "        \"score\": 0.099,\n",
      "        \"druggability_score\": 0.001,\n",
      "        \"number_of_alpha_spheres\": 35,\n",
      "        \"total_sasa\": 99.309,\n",
      "        \"polar_sasa\": 55.043,\n",
      "        \"apolar_sasa\": 44.266,\n",
      "        \"volume\": 309.313,\n",
      "        \"mean_local_hydrophobic_density\": 5.273,\n",
      "        \"mean_alpha_sphere_radius\": 3.508,\n",
      "        \"mean_alp_sph_solvent_access\": 0.484,\n",
      "        \"apolar_alpha_sphere_proportion\": 0.314,\n",
      "        \"hydrophobicity_score\": 26.3,\n",
      "        \"volume_score\": 5.3,\n",
      "        \"polarity_score\": 6,\n",
      "        \"charge_score\": 1,\n",
      "        \"proportion_of_polar_atoms\": 44.0,\n",
      "        \"alpha_sphere_density\": 4.465,\n",
      "        \"cent_of_mass_alpha_sphere_max_dist\": 10.856,\n",
      "        \"flexibility\": 0.585\n",
      "    }\n",
      "}\n"
     ]
    }
   ],
   "source": [
    "import json\n",
    "\n",
    "with open(fpocket_summary, 'r') as json_file:\n",
    "    data = json.load(json_file)\n",
    "    print(json.dumps(data, indent=4))"
   ]
  },
  {
   "cell_type": "code",
   "execution_count": 14,
   "metadata": {},
   "outputs": [],
   "source": [
    "from biobb_vs.fpocket.fpocket_filter import fpocket_filter"
   ]
  },
  {
   "cell_type": "code",
   "execution_count": 15,
   "metadata": {
    "scrolled": false
   },
   "outputs": [
    {
     "name": "stdout",
     "output_type": "stream",
     "text": [
      "2021-02-02 12:36:54,198 [MainThread  ] [INFO ]  Performing a search under the next parameters: druggability_score: [0.04, 1], volume: [100, 600.2]\n",
      "2021-02-02 12:36:54,199 [MainThread  ] [INFO ]  Found 3 matches:\n",
      "**********\n",
      "pocket6\n",
      "**********\n",
      "score: 0.082\n",
      "druggability_score: 0.144\n",
      "volume: 523.391\n",
      "\n",
      "**********\n",
      "pocket10\n",
      "**********\n",
      "score: -0.062\n",
      "druggability_score: 0.048\n",
      "volume: 345.841\n",
      "\n",
      "**********\n",
      "pocket1\n",
      "**********\n",
      "score: 0.296\n",
      "druggability_score: 0.041\n",
      "volume: 328.395\n",
      "\n",
      "2021-02-02 12:36:54,201 [MainThread  ] [INFO ]  Creating 7cdaad9b-cbe4-43ad-98cf-a3efb3b3d05d temporary folder\n",
      "2021-02-02 12:36:54,208 [MainThread  ] [INFO ]  Extracting: /home/gbayarri_local/projects/BioBB/tutorials/biobb_wf_virtual-screening/biobb_wf_virtual-screening/notebooks/fpocket/fpocket_all_pockets.zip\n",
      "2021-02-02 12:36:54,209 [MainThread  ] [INFO ]  to:\n",
      "2021-02-02 12:36:54,210 [MainThread  ] [INFO ]  ['7cdaad9b-cbe4-43ad-98cf-a3efb3b3d05d/pocket10_atm.pdb', '7cdaad9b-cbe4-43ad-98cf-a3efb3b3d05d/pocket10_vert.pqr', '7cdaad9b-cbe4-43ad-98cf-a3efb3b3d05d/pocket1_atm.pdb', '7cdaad9b-cbe4-43ad-98cf-a3efb3b3d05d/pocket1_vert.pqr', '7cdaad9b-cbe4-43ad-98cf-a3efb3b3d05d/pocket2_atm.pdb', '7cdaad9b-cbe4-43ad-98cf-a3efb3b3d05d/pocket2_vert.pqr', '7cdaad9b-cbe4-43ad-98cf-a3efb3b3d05d/pocket3_atm.pdb', '7cdaad9b-cbe4-43ad-98cf-a3efb3b3d05d/pocket3_vert.pqr', '7cdaad9b-cbe4-43ad-98cf-a3efb3b3d05d/pocket4_atm.pdb', '7cdaad9b-cbe4-43ad-98cf-a3efb3b3d05d/pocket4_vert.pqr', '7cdaad9b-cbe4-43ad-98cf-a3efb3b3d05d/pocket5_atm.pdb', '7cdaad9b-cbe4-43ad-98cf-a3efb3b3d05d/pocket5_vert.pqr', '7cdaad9b-cbe4-43ad-98cf-a3efb3b3d05d/pocket6_atm.pdb', '7cdaad9b-cbe4-43ad-98cf-a3efb3b3d05d/pocket6_vert.pqr', '7cdaad9b-cbe4-43ad-98cf-a3efb3b3d05d/pocket7_atm.pdb', '7cdaad9b-cbe4-43ad-98cf-a3efb3b3d05d/pocket7_vert.pqr', '7cdaad9b-cbe4-43ad-98cf-a3efb3b3d05d/pocket8_atm.pdb', '7cdaad9b-cbe4-43ad-98cf-a3efb3b3d05d/pocket8_vert.pqr', '7cdaad9b-cbe4-43ad-98cf-a3efb3b3d05d/pocket9_atm.pdb', '7cdaad9b-cbe4-43ad-98cf-a3efb3b3d05d/pocket9_vert.pqr']\n",
      "2021-02-02 12:36:54,211 [MainThread  ] [INFO ]  Creating fpocket_filter_pockets.zip output file\n",
      "2021-02-02 12:36:54,214 [MainThread  ] [INFO ]  Adding:\n",
      "2021-02-02 12:36:54,215 [MainThread  ] [INFO ]  ['7cdaad9b-cbe4-43ad-98cf-a3efb3b3d05d/pocket10_atm.pdb', '7cdaad9b-cbe4-43ad-98cf-a3efb3b3d05d/pocket10_vert.pqr', '7cdaad9b-cbe4-43ad-98cf-a3efb3b3d05d/pocket1_atm.pdb', '7cdaad9b-cbe4-43ad-98cf-a3efb3b3d05d/pocket1_vert.pqr', '7cdaad9b-cbe4-43ad-98cf-a3efb3b3d05d/pocket6_atm.pdb', '7cdaad9b-cbe4-43ad-98cf-a3efb3b3d05d/pocket6_vert.pqr']\n",
      "2021-02-02 12:36:54,216 [MainThread  ] [INFO ]  to: /home/gbayarri_local/projects/BioBB/tutorials/biobb_wf_virtual-screening/biobb_wf_virtual-screening/notebooks/fpocket/fpocket_filter_pockets.zip\n",
      "2021-02-02 12:36:54,217 [MainThread  ] [INFO ]  Removed temporary folder: 7cdaad9b-cbe4-43ad-98cf-a3efb3b3d05d\n"
     ]
    },
    {
     "data": {
      "text/plain": [
       "0"
      ]
     },
     "execution_count": 15,
     "metadata": {},
     "output_type": "execute_result"
    }
   ],
   "source": [
    "fpocket_filter_pockets = \"fpocket_filter_pockets.zip\"\n",
    "prop = {\n",
    "    \"druggability_score\": [0.04, 1],\n",
    "    \"volume\": [100, 600.2]\n",
    "}\n",
    "\n",
    "fpocket_filter(input_pockets_zip=fpocket_all_pockets,\n",
    "                input_summary = fpocket_summary,\n",
    "                output_filter_pockets_zip=fpocket_filter_pockets,\n",
    "                properties=prop)"
   ]
  },
  {
   "cell_type": "code",
   "execution_count": 16,
   "metadata": {},
   "outputs": [],
   "source": [
    "import os\n",
    "from pathlib import Path, PurePath\n",
    "import zipfile\n",
    "\n",
    "if not Path(pockets_dir).exists(): os.mkdir(pockets_dir)\n",
    "#fpocket_filter_pockets\n",
    "with zipfile.ZipFile(fpocket_all_pockets, 'r') as zip_ref:\n",
    "    zip_ref.extractall(pockets_dir)\n",
    "\n",
    "path_pockets = [str(i) for i in Path(pockets_dir).iterdir()]\n",
    "path_pockets_pdb = [str(i) for i in Path(pockets_dir).iterdir() if PurePath(i).suffix == '.pdb']\n",
    "path_pockets_pqr = [str(i) for i in Path(pockets_dir).iterdir() if PurePath(i).suffix == '.pqr']"
   ]
  },
  {
   "cell_type": "code",
   "execution_count": 25,
   "metadata": {
    "scrolled": false
   },
   "outputs": [
    {
     "data": {
      "application/vnd.jupyter.widget-view+json": {
       "model_id": "cbc8affe3e594681a686cfa0a3c1e176",
       "version_major": 2,
       "version_minor": 0
      },
      "text/plain": [
       "NGLWidget()"
      ]
     },
     "metadata": {},
     "output_type": "display_data"
    }
   ],
   "source": [
    "import re\n",
    "import random\n",
    "\n",
    "# random colors for cavities\n",
    "r = lambda: random.randint(0,255)\n",
    "\n",
    "# load structure\n",
    "view = nglview.NGLWidget()\n",
    "c = view.add_component(pdb_single_chain)\n",
    "\n",
    "# load cavities (d) and pockets (p) and create pocketNames list\n",
    "c = {}\n",
    "p = {}\n",
    "pocketNames = []\n",
    "for pock in path_pockets:\n",
    "    g = re.findall('(?:pocket)(\\d+)(?:_\\w+)\\.(\\w+)', pock)\n",
    "    i = g[0][0]\n",
    "    suff = g[0][1]\n",
    "    if not [item for item in pocketNames if ('pocket' + i) in item]: pocketNames.append(('pocket' + i, int(i)))\n",
    "\n",
    "    if suff == 'pdb':\n",
    "        c[i] = view.add_component(pock)\n",
    "        c[i].clear()\n",
    "    else:\n",
    "        p[i] = view.add_component(pock)\n",
    "        p[i].clear()\n",
    "\n",
    "# sort pocket names\n",
    "pocketNames.sort(key=lambda tup: tup[1])\n",
    "        \n",
    "# representation for cavities\n",
    "for pock in path_pockets_pdb:\n",
    "    g = re.findall('(?:pocket)(\\d+)(?:_\\w+)\\.(\\w+)', pock)\n",
    "    i = g[0][0]\n",
    "    c[i].add_surface(color='#%02X%02X%02X' % (r(),r(),r()),  \n",
    "                     radius='1.5',\n",
    "                     lowResolution= True,\n",
    "                     # 0: low resolution \n",
    "                     smooth=1,\n",
    "                     useWorker= True,\n",
    "                     wrap= True)\n",
    "    \n",
    "# representation for pockets\n",
    "for pock in path_pockets_pqr:\n",
    "    g = re.findall('(?:pocket)(\\d+)(?:_\\w+)\\.(\\w+)', pock)\n",
    "    i = g[0][0]\n",
    "    p[i].add_surface( component=i, color='skyblue', surfaceType= 'av', contour=True )\n",
    "\n",
    "view.center()\n",
    "view._remote_call('setSize', target='Widget', args=['','600px'])\n",
    "view\n",
    "\n",
    "# show pocket labels\n",
    "code = \"\"\"\n",
    "var stage = this.stage;\n",
    "var view = this.stage.viewer;\n",
    "var clist_len = stage.compList.length;\n",
    "var i = 0;\n",
    "for(i = 0; i <= clist_len; i++){\n",
    "    /*if(stage.compList[i] != undefined && stage.compList[i].structure != undefined && stage.compList[i].object.name.indexOf('pqr') != -1) {        \n",
    "\n",
    "        var elm = document.createElement(\"div\");\n",
    "        elm.innerText = 'pocket' + stage.compList[i].object.name.match(/\\d+/g)\n",
    "        elm.style.color = \"black\";\n",
    "        elm.style.background = \"rgba(201, 149, 6, .8)\";\n",
    "        elm.style.padding = \"8px\";\n",
    "        \n",
    "        stage.compList[i].addAnnotation(stage.compList[i].structure.center, elm)\n",
    "    }*/\n",
    "}\n",
    "\"\"\"\n",
    "\n",
    "view._execute_js_code(code)\n",
    "\n",
    "view"
   ]
  },
  {
   "cell_type": "code",
   "execution_count": 18,
   "metadata": {},
   "outputs": [
    {
     "data": {
      "application/vnd.jupyter.widget-view+json": {
       "model_id": "7188eac79d76415aa9c53f4ac6ab528b",
       "version_major": 2,
       "version_minor": 0
      },
      "text/plain": [
       "Dropdown(description='Sel. pocket:', options=(('pocket1', 1), ('pocket2', 2), ('pocket3', 3), ('pocket4', 4), …"
      ]
     },
     "metadata": {},
     "output_type": "display_data"
    }
   ],
   "source": [
    "mdsel = ipywidgets.Dropdown(\n",
    "    options=pocketNames,\n",
    "    description='Sel. pocket:',\n",
    "    disabled=False,\n",
    ")\n",
    "display(mdsel)"
   ]
  },
  {
   "cell_type": "code",
   "execution_count": 19,
   "metadata": {},
   "outputs": [],
   "source": [
    "from biobb_vs.fpocket.fpocket_select import fpocket_select"
   ]
  },
  {
   "cell_type": "code",
   "execution_count": 20,
   "metadata": {},
   "outputs": [
    {
     "name": "stdout",
     "output_type": "stream",
     "text": [
      "2021-02-02 12:37:09,221 [MainThread  ] [INFO ]  Creating 42ea92f6-3396-4004-bd81-46179c3ba7a0 temporary folder\n",
      "2021-02-02 12:37:09,228 [MainThread  ] [INFO ]  Extracting: /home/gbayarri_local/projects/BioBB/tutorials/biobb_wf_virtual-screening/biobb_wf_virtual-screening/notebooks/fpocket/fpocket_all_pockets.zip\n",
      "2021-02-02 12:37:09,229 [MainThread  ] [INFO ]  to:\n",
      "2021-02-02 12:37:09,230 [MainThread  ] [INFO ]  ['42ea92f6-3396-4004-bd81-46179c3ba7a0/pocket10_atm.pdb', '42ea92f6-3396-4004-bd81-46179c3ba7a0/pocket10_vert.pqr', '42ea92f6-3396-4004-bd81-46179c3ba7a0/pocket1_atm.pdb', '42ea92f6-3396-4004-bd81-46179c3ba7a0/pocket1_vert.pqr', '42ea92f6-3396-4004-bd81-46179c3ba7a0/pocket2_atm.pdb', '42ea92f6-3396-4004-bd81-46179c3ba7a0/pocket2_vert.pqr', '42ea92f6-3396-4004-bd81-46179c3ba7a0/pocket3_atm.pdb', '42ea92f6-3396-4004-bd81-46179c3ba7a0/pocket3_vert.pqr', '42ea92f6-3396-4004-bd81-46179c3ba7a0/pocket4_atm.pdb', '42ea92f6-3396-4004-bd81-46179c3ba7a0/pocket4_vert.pqr', '42ea92f6-3396-4004-bd81-46179c3ba7a0/pocket5_atm.pdb', '42ea92f6-3396-4004-bd81-46179c3ba7a0/pocket5_vert.pqr', '42ea92f6-3396-4004-bd81-46179c3ba7a0/pocket6_atm.pdb', '42ea92f6-3396-4004-bd81-46179c3ba7a0/pocket6_vert.pqr', '42ea92f6-3396-4004-bd81-46179c3ba7a0/pocket7_atm.pdb', '42ea92f6-3396-4004-bd81-46179c3ba7a0/pocket7_vert.pqr', '42ea92f6-3396-4004-bd81-46179c3ba7a0/pocket8_atm.pdb', '42ea92f6-3396-4004-bd81-46179c3ba7a0/pocket8_vert.pqr', '42ea92f6-3396-4004-bd81-46179c3ba7a0/pocket9_atm.pdb', '42ea92f6-3396-4004-bd81-46179c3ba7a0/pocket9_vert.pqr']\n",
      "2021-02-02 12:37:09,231 [MainThread  ] [INFO ]  Saving fpocket_cavity.pdb file\n",
      "2021-02-02 12:37:09,233 [MainThread  ] [INFO ]  Saving fpocket_pocket.pqr file\n",
      "2021-02-02 12:37:09,234 [MainThread  ] [INFO ]  Saving fpocket_cavity.pdb file\n",
      "2021-02-02 12:37:09,235 [MainThread  ] [INFO ]  Saving fpocket_pocket.pqr file\n",
      "2021-02-02 12:37:09,237 [MainThread  ] [INFO ]  Removed temporary folder: 42ea92f6-3396-4004-bd81-46179c3ba7a0\n"
     ]
    },
    {
     "data": {
      "text/plain": [
       "0"
      ]
     },
     "execution_count": 20,
     "metadata": {},
     "output_type": "execute_result"
    }
   ],
   "source": [
    "fpocket_cavity = \"fpocket_cavity.pdb\"\n",
    "fpocket_pocket = \"fpocket_pocket.pqr\"\n",
    "prop = {\n",
    "    \"pocket\": mdsel.value\n",
    "}\n",
    "\n",
    "fpocket_select(input_pockets_zip=fpocket_all_pockets,\n",
    "#fpocket_select(input_pockets_zip=fpocket_filter_pockets,\n",
    "                output_pocket_pdb = fpocket_cavity,\n",
    "                output_pocket_pqr=fpocket_pocket,\n",
    "                properties=prop)"
   ]
  },
  {
   "cell_type": "code",
   "execution_count": 21,
   "metadata": {},
   "outputs": [
    {
     "name": "stderr",
     "output_type": "stream",
     "text": [
      "/anaconda3/envs/biobb_dev_37/lib/python3.7/site-packages/Bio/SubsMat/__init__.py:131: BiopythonDeprecationWarning: Bio.SubsMat has been deprecated, and we intend to remove it in a future release of Biopython. As an alternative, please consider using Bio.Align.substitution_matrices as a replacement, and contact the Biopython developers if you still need the Bio.SubsMat module.\n",
      "  BiopythonDeprecationWarning,\n"
     ]
    }
   ],
   "source": [
    "from biobb_vs.utils.box import box"
   ]
  },
  {
   "cell_type": "code",
   "execution_count": 22,
   "metadata": {},
   "outputs": [
    {
     "name": "stdout",
     "output_type": "stream",
     "text": [
      "2021-02-02 12:37:11,467 [MainThread  ] [INFO ]  Loading pocket PQR selection from fpocket_pocket.pqr\n",
      "2021-02-02 12:37:11,470 [MainThread  ] [INFO ]  Binding site center (Angstroms):     19.819    46.150   102.219\n",
      "2021-02-02 12:37:11,472 [MainThread  ] [INFO ]  Adding 10.0 Angstroms offset\n",
      "2021-02-02 12:37:11,473 [MainThread  ] [INFO ]  Binding site size (Angstroms):       13.614    14.765    13.666\n",
      "2021-02-02 12:37:11,474 [MainThread  ] [INFO ]  Volume (cubic Angstroms): 21977\n",
      "2021-02-02 12:37:11,477 [MainThread  ] [INFO ]  Adding box coordinates\n",
      "2021-02-02 12:37:11,478 [MainThread  ] [INFO ]  Saving output PDB file (with box setting annotations): box.pdb\n"
     ]
    },
    {
     "data": {
      "text/plain": [
       "0"
      ]
     },
     "execution_count": 22,
     "metadata": {},
     "output_type": "execute_result"
    }
   ],
   "source": [
    "output_box = \"box.pdb\"\n",
    "prop = {\n",
    "    \"offset\": 10,\n",
    "    \"box_coordinates\": True\n",
    "}\n",
    "\n",
    "box(input_pdb_path = fpocket_pocket,\n",
    "            output_pdb_path = output_box,\n",
    "            properties=prop)"
   ]
  },
  {
   "cell_type": "code",
   "execution_count": 23,
   "metadata": {},
   "outputs": [
    {
     "data": {
      "application/vnd.jupyter.widget-view+json": {
       "model_id": "5dcbe1ddb9ff48359771f3f17b76f3d1",
       "version_major": 2,
       "version_minor": 0
      },
      "text/plain": [
       "NGLWidget()"
      ]
     },
     "metadata": {},
     "output_type": "display_data"
    }
   ],
   "source": [
    "#view = nglview.show_structure_file(box, default=False)\n",
    "view = nglview.NGLWidget()\n",
    "#s = view.add_component(pdb_single_chain)\n",
    "s = view.add_component(download_pdb)\n",
    "b = view.add_component(output_box)\n",
    "p = view.add_component(fpocket_pocket)\n",
    "p.clear()\n",
    "\n",
    "atomPair = [\n",
    "    [ \"9999:Z.ZN1\", \"9999:Z.ZN2\" ],\n",
    "    [ \"9999:Z.ZN2\", \"9999:Z.ZN4\" ],\n",
    "    [ \"9999:Z.ZN4\", \"9999:Z.ZN3\" ],\n",
    "    [ \"9999:Z.ZN3\", \"9999:Z.ZN1\" ],\n",
    "    \n",
    "    [ \"9999:Z.ZN5\", \"9999:Z.ZN6\" ],\n",
    "    [ \"9999:Z.ZN6\", \"9999:Z.ZN8\" ],\n",
    "    [ \"9999:Z.ZN8\", \"9999:Z.ZN7\" ],\n",
    "    [ \"9999:Z.ZN7\", \"9999:Z.ZN5\" ],\n",
    "    \n",
    "    [ \"9999:Z.ZN1\", \"9999:Z.ZN5\" ],\n",
    "    [ \"9999:Z.ZN2\", \"9999:Z.ZN6\" ],\n",
    "    [ \"9999:Z.ZN3\", \"9999:Z.ZN7\" ],\n",
    "    [ \"9999:Z.ZN4\", \"9999:Z.ZN8\" ]\n",
    "]\n",
    "\n",
    "# structure\n",
    "s.add_representation(repr_type='cartoon', \n",
    "                        selection='not het',\n",
    "                        color='#cccccc',\n",
    "                       opacity=.2)\n",
    "# ligands box\n",
    "b.add_representation(repr_type='ball+stick',\n",
    "                     selection='9999',\n",
    "                     color='pink', \n",
    "                     aspectRatio = 8)\n",
    "# lines box\n",
    "b.add_representation(repr_type='distance', \n",
    "                     atomPair= atomPair,\n",
    "                     labelVisible=False,\n",
    "                     color= 'black')\n",
    "\n",
    "# pocket\n",
    "p.add_surface(component=mdsel.value, \n",
    "              color='skyblue', \n",
    "              surfaceType= 'av', \n",
    "              lowResolution= True,\n",
    "              # 0: low resolution \n",
    "              smooth=1,\n",
    "              contour=True,\n",
    "              opacity=0.4,\n",
    "              useWorker= True,\n",
    "              wrap= True )\n",
    "\n",
    "\n",
    "view.center()\n",
    "view._remote_call('setSize', target='Widget', args=['','600px'])\n",
    "view"
   ]
  },
  {
   "cell_type": "code",
   "execution_count": null,
   "metadata": {},
   "outputs": [],
   "source": [
    "from biobb_io.api.ideal_sdf import ideal_sdf"
   ]
  },
  {
   "cell_type": "code",
   "execution_count": null,
   "metadata": {},
   "outputs": [],
   "source": [
    "sdf_ideal = \"ideal.sdf\"\n",
    "prop = {\n",
    "  \"ligand_code\": ligand_remove\n",
    "}\n",
    "\n",
    "ideal_sdf(output_sdf_path=sdf_ideal,\n",
    "    properties=prop)"
   ]
  },
  {
   "cell_type": "code",
   "execution_count": null,
   "metadata": {},
   "outputs": [],
   "source": [
    "from biobb_chemistry.babelm.babel_convert import babel_convert"
   ]
  },
  {
   "cell_type": "code",
   "execution_count": null,
   "metadata": {},
   "outputs": [],
   "source": [
    "ligand = \"ligand.pdb\"\n",
    "prop = {\n",
    "    \"input_format\": \"sdf\",\n",
    "    \"output_format\": \"pdb\",\n",
    "    \"obabel_path\": \"obabel\"\n",
    "}\n",
    "\n",
    "babel_convert(input_path = sdf_ideal,\n",
    "            output_path = ligand,\n",
    "            properties=prop)"
   ]
  },
  {
   "cell_type": "code",
   "execution_count": null,
   "metadata": {},
   "outputs": [],
   "source": [
    "# ONLY IN CASE NOT IDEAL SDF DOWNLOADED\n",
    "from biobb_structure_utils.utils.extract_heteroatoms import extract_heteroatoms"
   ]
  },
  {
   "cell_type": "code",
   "execution_count": null,
   "metadata": {},
   "outputs": [],
   "source": [
    "# ONLY IN CASE NOT IDEAL SDF DOWNLOADED\n",
    "ligand = \"ligand.pdb\"\n",
    "prop = {\n",
    "    \"heteroatoms\": [{ \"name\": ligand_remove }]\n",
    "}\n",
    "\n",
    "extract_heteroatoms(input_structure_path = download_pdb,\n",
    "            output_heteroatom_path = ligand,\n",
    "            properties=prop)"
   ]
  },
  {
   "cell_type": "code",
   "execution_count": null,
   "metadata": {},
   "outputs": [],
   "source": [
    "from biobb_chemistry.ambertools.reduce_add_hydrogens import reduce_add_hydrogens"
   ]
  },
  {
   "cell_type": "code",
   "execution_count": null,
   "metadata": {},
   "outputs": [],
   "source": [
    "ligand_H = \"ligand_H.pdb\"\n",
    "prop = {\n",
    "    \n",
    "}\n",
    "\n",
    "reduce_add_hydrogens(input_path=ligand,\n",
    "                    output_path=ligand_H,\n",
    "                    properties=prop)"
   ]
  },
  {
   "cell_type": "code",
   "execution_count": null,
   "metadata": {},
   "outputs": [],
   "source": [
    "from ipywidgets import HBox"
   ]
  },
  {
   "cell_type": "code",
   "execution_count": null,
   "metadata": {},
   "outputs": [],
   "source": [
    "v0 = nglview.show_structure_file(ligand)\n",
    "v1 = nglview.show_structure_file(ligand_H)\n",
    "\n",
    "v0._set_size('500px', '')\n",
    "v1._set_size('500px', '')\n",
    "\n",
    "def on_change(change):\n",
    "    v1._set_camera_orientation(change['new'])\n",
    "    \n",
    "v0.observe(on_change, ['_camera_orientation'])\n",
    "\n",
    "HBox([v0, v1])"
   ]
  },
  {
   "cell_type": "code",
   "execution_count": null,
   "metadata": {},
   "outputs": [],
   "source": [
    "from biobb_chemistry.babelm.babel_convert import babel_convert"
   ]
  },
  {
   "cell_type": "code",
   "execution_count": null,
   "metadata": {},
   "outputs": [],
   "source": [
    "prep_ligand = \"prep_ligand.pdbqt\"\n",
    "prop = {\n",
    "    \"input_format\": \"pdb\",\n",
    "    \"output_format\": \"pdbqt\",\n",
    "    \"obabel_path\": \"obabel\"\n",
    "}\n",
    "\n",
    "babel_convert(input_path = ligand_H,\n",
    "            output_path = prep_ligand,\n",
    "            properties=prop)"
   ]
  },
  {
   "cell_type": "code",
   "execution_count": null,
   "metadata": {},
   "outputs": [],
   "source": [
    "from biobb_structure_utils.utils.str_check_add_hydrogens import str_check_add_hydrogens"
   ]
  },
  {
   "cell_type": "code",
   "execution_count": null,
   "metadata": {},
   "outputs": [],
   "source": [
    "prep_receptor = \"prep_receptor.pdbqt\"\n",
    "prop = {\n",
    "    \"charges\": True,\n",
    "    \"mode\": \"auto\"\n",
    "}\n",
    "\n",
    "str_check_add_hydrogens(input_structure_path = pdb_single_chain,\n",
    "            output_structure_path = prep_receptor,\n",
    "            properties=prop)"
   ]
  },
  {
   "cell_type": "code",
   "execution_count": null,
   "metadata": {},
   "outputs": [],
   "source": [
    "from biobb_vs.vina.autodock_vina import autodock_vina"
   ]
  },
  {
   "cell_type": "code",
   "execution_count": null,
   "metadata": {},
   "outputs": [],
   "source": [
    "output_vina_pdbqt = \"output_vina.pdbqt\"\n",
    "output_vina_log = \"output_vina.log\"\n",
    "\n",
    "autodock_vina(input_ligand_pdbqt_path = prep_ligand,\n",
    "             input_receptor_pdbqt_path = prep_receptor,\n",
    "             input_box_path = output_box,\n",
    "            output_pdbqt_path = output_vina_pdbqt,\n",
    "             output_log_path = output_vina_log)"
   ]
  },
  {
   "cell_type": "code",
   "execution_count": null,
   "metadata": {},
   "outputs": [],
   "source": [
    "models = 'all'\n",
    "#models = '/0 or /1 or /4'\n",
    "\n",
    "v0 = nglview.show_structure_file(output_vina_pdbqt, default=False)\n",
    "v0.add_representation(repr_type='licorice', \n",
    "                        selection=models,\n",
    "                       colorScheme= 'partialCharge')\n",
    "v0.center()\n",
    "v1 = nglview.show_structure_file(output_vina_pdbqt, default=False)\n",
    "v1.add_representation(repr_type='ball+stick', \n",
    "                        selection=models)\n",
    "v1.center()\n",
    "\n",
    "v0._set_size('500px', '')\n",
    "v1._set_size('500px', '')\n",
    "\n",
    "def on_change(change):\n",
    "    v1._set_camera_orientation(change['new'])\n",
    "    \n",
    "v0.observe(on_change, ['_camera_orientation'])\n",
    "\n",
    "HBox([v0, v1])"
   ]
  },
  {
   "cell_type": "code",
   "execution_count": null,
   "metadata": {},
   "outputs": [],
   "source": [
    "from Bio.PDB import PDBParser\n",
    "parser = PDBParser(QUIET = True)\n",
    "structure = parser.get_structure(\"protein\", output_vina_pdbqt)\n",
    "models = []\n",
    "for i, m in enumerate(structure):\n",
    "    models.append(('model' + str(i), i))\n",
    "    \n",
    "mdsel = ipywidgets.Dropdown(\n",
    "    options=models,\n",
    "    description='Sel. model:',\n",
    "    disabled=False,\n",
    ")\n",
    "display(mdsel)"
   ]
  },
  {
   "cell_type": "code",
   "execution_count": null,
   "metadata": {},
   "outputs": [],
   "source": [
    "from biobb_vs.utils.extract_model_pdbqt import extract_model_pdbqt"
   ]
  },
  {
   "cell_type": "code",
   "execution_count": null,
   "metadata": {},
   "outputs": [],
   "source": [
    "output_pdbqt_model = \"output_model.pdbqt\"\n",
    "prop = {\n",
    "    \"model\": mdsel.value + 1\n",
    "}\n",
    "\n",
    "extract_model_pdbqt(input_pdbqt_path = output_vina_pdbqt,\n",
    "             output_pdbqt_path = output_pdbqt_model,\n",
    "            properties=prop)"
   ]
  },
  {
   "cell_type": "code",
   "execution_count": null,
   "metadata": {},
   "outputs": [],
   "source": [
    "v0 = nglview.show_structure_file(ligand)\n",
    "v1 = nglview.show_structure_file(output_pdbqt_model)\n",
    "\n",
    "v0._set_size('500px', '')\n",
    "v1._set_size('500px', '')\n",
    "\n",
    "#def on_change(change):\n",
    "#    v1._set_camera_orientation(change['new'])\n",
    "    \n",
    "#v0.observe(on_change, ['_camera_orientation'])\n",
    "\n",
    "HBox([v0, v1])"
   ]
  },
  {
   "cell_type": "code",
   "execution_count": null,
   "metadata": {},
   "outputs": [],
   "source": [
    "from biobb_chemistry.babelm.babel_convert import babel_convert"
   ]
  },
  {
   "cell_type": "code",
   "execution_count": null,
   "metadata": {},
   "outputs": [],
   "source": [
    "output_pdb_model = \"output_model.pdb\"\n",
    "prop = {\n",
    "    \"input_format\": \"pdbqt\",\n",
    "    \"output_format\": \"pdb\",\n",
    "    \"obabel_path\": \"obabel\"\n",
    "}\n",
    "\n",
    "babel_convert(input_path = output_pdbqt_model,\n",
    "             output_path = output_pdb_model,\n",
    "            properties=prop)"
   ]
  },
  {
   "cell_type": "code",
   "execution_count": null,
   "metadata": {},
   "outputs": [],
   "source": [
    "from biobb_structure_utils.utils.cat_pdb import cat_pdb"
   ]
  },
  {
   "cell_type": "code",
   "execution_count": null,
   "metadata": {},
   "outputs": [],
   "source": [
    "output_structure = \"output_structure.pdb\"\n",
    "\n",
    "cat_pdb(input_structure1 = pdb_single_chain,\n",
    "             input_structure2 = output_pdb_model,\n",
    "             output_structure_path = output_structure)"
   ]
  },
  {
   "cell_type": "code",
   "execution_count": null,
   "metadata": {},
   "outputs": [],
   "source": [
    "# download 4hjo for comparing purposes\n",
    "compare_structure = compare_id + \".pdb\"\n",
    "prop = {\n",
    "  \"pdb_code\": compare_id,\n",
    "  \"filter\": [\"ATOM\", \"HETATM\"],\n",
    "  \"api_id\": api_id\n",
    "}\n",
    "compare_structure\n",
    "pdb(output_pdb_path=compare_structure,\n",
    "    properties=prop)"
   ]
  },
  {
   "cell_type": "code",
   "execution_count": null,
   "metadata": {
    "scrolled": false
   },
   "outputs": [],
   "source": [
    "# load reference and output\n",
    "view = nglview.NGLWidget()\n",
    "#v1 = view.add_component(compare_structure)\n",
    "v1 = view.add_component(download_pdb)\n",
    "v2 = view.add_component(output_structure)\n",
    "v1.clear()\n",
    "v1.add_representation(repr_type='licorice', \n",
    "                        selection='HYZ',\n",
    "                      #selection='AQ4',\n",
    "                     radius=0.5)\n",
    "\n",
    "view._remote_call('setSize', target='Widget', args=['','600px'])\n",
    "view\n",
    "\n",
    "something = 'kk'\n",
    "\n",
    "# align reference and output\n",
    "code = \"\"\"\n",
    "console.log(%s)\n",
    "var stage = this.stage;\n",
    "var clist_len = stage.compList.length;\n",
    "var i = 0;\n",
    "var s = [];\n",
    "//console.log(clist_len)\n",
    "//console.log(stage.compList[0])\n",
    "//console.log(stage.compList)\n",
    "for(i = 0; i <= clist_len; i++){\n",
    "    //console.log(stage.compList[i])\n",
    "    if(stage.compList[i] != undefined && stage.compList[i].structure != undefined) {        \n",
    "       s.push(stage.compList[i])\n",
    "    }\n",
    "}\n",
    "\n",
    "NGL.superpose(s[0].structure, s[1].structure, true)\n",
    "s[ 0 ].updateRepresentations({ position: true })\n",
    "s[ 0 ].autoView()\n",
    "\"\"\" % something\n",
    "\n",
    "view._execute_js_code(code)\n",
    "view"
   ]
  },
  {
   "cell_type": "code",
   "execution_count": null,
   "metadata": {},
   "outputs": [],
   "source": [
    "#v0 = nglview.show_structure_file(compare_structure)\n",
    "#v0 = nglview.show_structure_file(download_pdb)\n",
    "\n",
    "#v1 = nglview.show_structure_file(output_structure)\n",
    "\n",
    "#v0._set_size('500px', '500px')\n",
    "#v1._set_size('500px', '500px')\n",
    "\n",
    "#def on_change(change):\n",
    "#    v1._set_camera_orientation(change['new'])\n",
    "    \n",
    "#v0.observe(on_change, ['_camera_orientation'])\n",
    "\n",
    "#HBox([v0, v1])"
   ]
  },
  {
   "cell_type": "code",
   "execution_count": null,
   "metadata": {},
   "outputs": [],
   "source": []
  }
 ],
 "metadata": {
  "kernelspec": {
   "display_name": "Python 3",
   "language": "python",
   "name": "python3"
  },
  "language_info": {
   "codemirror_mode": {
    "name": "ipython",
    "version": 3
   },
   "file_extension": ".py",
   "mimetype": "text/x-python",
   "name": "python",
   "nbconvert_exporter": "python",
   "pygments_lexer": "ipython3",
   "version": "3.7.6"
  }
 },
 "nbformat": 4,
 "nbformat_minor": 4
}
